{
 "cells": [
  {
   "cell_type": "markdown",
   "id": "eeef0475-2c07-43f1-a1e5-9a796d783736",
   "metadata": {},
   "source": [
    "\n",
    "\n",
    "Olá estudante!\n",
    "\n",
    "Me chamo Rafael Meirelles e irei revisar o seu projeto hoje e em eventuais futuras submissões até que ele cumpra todos os requisitos para o aceite.\n",
    "Conte comigo nessa jornada e não se preocupe se precisar ajustar alguns detalhes, é parte do processo e fundamental para que você exercite os conceitos que vem aprendendo e assim melhore a qualidade dos seus códigos e análises.\n",
    "\n",
    "**Peço que mantenha e não altereos comentários que eu fizer por aqui para que possamos nos localizar posteriormente, ok?**\n",
    "\n",
    "Mais uma coisa, vamos utilizar um código de cores para você entender os meus feedbacks no seu notebook. Funciona assim:\n",
    "\n",
    "\n",
    "<div class=\"alert alert-danger\">\n",
    "<strong>Vermelho</strong>\n",
    "\n",
    "Erro que precisa ser consertado, caso contrário, seu projeto não pode ser aceito\n",
    "\n",
    "</div>\n",
    "\n",
    "<div class=\"alert alert-warning\">\n",
    "<strong>Amarelo</strong>\n",
    "\n",
    "Alerta de um erro não crítco, mas que pode ser corrigido para melhoria geral no seu código/análise\n",
    "\n",
    "</div>\n",
    "\n",
    "<div class=\"alert alert-success\">\n",
    "<strong>Verde</strong>\n",
    "\n",
    "Elogios\n",
    "</div>\n",
    "\n",
    "<div class=\"alert alert-info\">\n",
    "<strong>Comentário do estudante</strong>\n",
    "\n",
    "Use uma caixa azul como essa para eventuais comentários que você gostaria de fazer para mim.\n",
    "</div>\n",
    "\n",
    "\n",
    "\n",
    "\n"
   ]
  },
  {
   "cell_type": "code",
   "execution_count": null,
   "id": "1d52464d-9c4f-49ac-9d5a-a6c1793b310d",
   "metadata": {},
   "outputs": [],
   "source": []
  },
  {
   "cell_type": "code",
   "execution_count": null,
   "id": "500e248b-944c-4ca6-b4c3-76df626d87c6",
   "metadata": {},
   "outputs": [],
   "source": []
  },
  {
   "cell_type": "markdown",
   "id": "53178b34-0daf-4ba1-a2d2-27972e53d761",
   "metadata": {},
   "source": [
    "\n",
    "\n",
    "<div class=\"alert alert-danger\">\n",
    "<strong>Comentário do revisor v1</strong>\n",
    "\n",
    "Estamos no caminho certo com essa versão, mas retocar os pontos indicados abaixo nos fará chegar em um resultado ainda mais incrível.\n",
    "    \n",
    "Conte comigo para ajudá-lo (a) em qualquer questão que possa vir a ter! Lembre-se de usar as caixas azuis para se comunicar comigo.\n",
    "    \n",
    "Até breve.\n",
    "</div>\n",
    "\n"
   ]
  },
  {
   "cell_type": "markdown",
   "id": "d24f3c52",
   "metadata": {},
   "source": [
    "# Projeto Sprint 10 - Relatório de pesquisa de mercado de resturantes, Análise gráfica e apresentação"
   ]
  },
  {
   "cell_type": "markdown",
   "id": "70f78357",
   "metadata": {},
   "source": [
    "# Introdução"
   ]
  },
  {
   "cell_type": "markdown",
   "id": "a4e77345",
   "metadata": {},
   "source": [
    "Análise e ralatório para abrir uma pequena cafeteria com garçons robôs em Los Angeles.\n",
    "No projeto é realizada inferências sobre condições atuais do mercado, as principais caracteristicas encontradas com a base de dados coletada e as possibilidades levantadas para a abertura dessa cafeteria."
   ]
  },
  {
   "cell_type": "markdown",
   "id": "eba29b4a",
   "metadata": {},
   "source": [
    "[Apresentação](https://1drv.ms/b/c/724b2c88352c89d1/EVvfU94QocVMrexGt1U5fGcBPnJHpIbeNR2rAKlGJpc-cg?e=dFfXG0)"
   ]
  },
  {
   "cell_type": "markdown",
   "id": "89667d1b",
   "metadata": {},
   "source": [
    "## Sumário\n",
    "\n",
    "1. [Abertura dos dados](#abertura_dados)\n",
    "    * 1.1 [Verificação de dados duplicados e nulos](#verificacao_dados)\n",
    "2. [Análise exploratória](#analise_exploratoria)\n",
    "    * 2.1 [Agrupamentos iniciais](#agrupamentos_iniciais)\n",
    "    * 2.2 [Gráficos iniciais](#graficos_iniciais)\n",
    "3. [Hipóteses e Verificações](#verificacoes)\n",
    "    * 3.1 [Gráficos Rede True and False](#graf_chain)\n",
    "    * 3.2 [Gráfico Média de Cadeiras](#graf_media)\n",
    "4. [Análise do negócio por endereço](#df_ruas)\n",
    "    * 4.1 [Análise dos principais endereços](#df_10)\n",
    "    * 4.2 [Análise dos principais endereços por Rede True and False](#df_10_TF)\n",
    "5. [Conclusão](#conclusao)"
   ]
  },
  {
   "cell_type": "markdown",
   "id": "97610e02",
   "metadata": {},
   "source": [
    "<a id=\"abertura_dados\"></a>\n",
    "## 1. Abertura dos dados"
   ]
  },
  {
   "cell_type": "code",
   "execution_count": 159,
   "id": "686820f9",
   "metadata": {},
   "outputs": [],
   "source": [
    "import pandas as pd\n",
    "import datetime as dt\n",
    "import numpy as np\n",
    "import matplotlib.pyplot as plt\n",
    "from scipy import stats as st\n",
    "import math as mth\n",
    "import seaborn as sns\n",
    "from plotly import graph_objects as go\n",
    "import plotly.express as px\n",
    "import re"
   ]
  },
  {
   "cell_type": "code",
   "execution_count": 160,
   "id": "6be0b1b6",
   "metadata": {},
   "outputs": [
    {
     "data": {
      "text/html": [
       "<div>\n",
       "<style scoped>\n",
       "    .dataframe tbody tr th:only-of-type {\n",
       "        vertical-align: middle;\n",
       "    }\n",
       "\n",
       "    .dataframe tbody tr th {\n",
       "        vertical-align: top;\n",
       "    }\n",
       "\n",
       "    .dataframe thead th {\n",
       "        text-align: right;\n",
       "    }\n",
       "</style>\n",
       "<table border=\"1\" class=\"dataframe\">\n",
       "  <thead>\n",
       "    <tr style=\"text-align: right;\">\n",
       "      <th></th>\n",
       "      <th>id</th>\n",
       "      <th>object_name</th>\n",
       "      <th>address</th>\n",
       "      <th>chain</th>\n",
       "      <th>object_type</th>\n",
       "      <th>number</th>\n",
       "    </tr>\n",
       "  </thead>\n",
       "  <tbody>\n",
       "    <tr>\n",
       "      <th>0</th>\n",
       "      <td>11786</td>\n",
       "      <td>HABITAT COFFEE SHOP</td>\n",
       "      <td>3708 N EAGLE ROCK BLVD</td>\n",
       "      <td>False</td>\n",
       "      <td>Cafe</td>\n",
       "      <td>26</td>\n",
       "    </tr>\n",
       "    <tr>\n",
       "      <th>1</th>\n",
       "      <td>11787</td>\n",
       "      <td>REILLY'S</td>\n",
       "      <td>100 WORLD WAY 120</td>\n",
       "      <td>False</td>\n",
       "      <td>Restaurant</td>\n",
       "      <td>9</td>\n",
       "    </tr>\n",
       "    <tr>\n",
       "      <th>2</th>\n",
       "      <td>11788</td>\n",
       "      <td>STREET CHURROS</td>\n",
       "      <td>6801 HOLLYWOOD BLVD 253</td>\n",
       "      <td>False</td>\n",
       "      <td>Fast Food</td>\n",
       "      <td>20</td>\n",
       "    </tr>\n",
       "    <tr>\n",
       "      <th>3</th>\n",
       "      <td>11789</td>\n",
       "      <td>TRINITI ECHO PARK</td>\n",
       "      <td>1814 W SUNSET BLVD</td>\n",
       "      <td>False</td>\n",
       "      <td>Restaurant</td>\n",
       "      <td>22</td>\n",
       "    </tr>\n",
       "    <tr>\n",
       "      <th>4</th>\n",
       "      <td>11790</td>\n",
       "      <td>POLLEN</td>\n",
       "      <td>2100 ECHO PARK AVE</td>\n",
       "      <td>False</td>\n",
       "      <td>Restaurant</td>\n",
       "      <td>20</td>\n",
       "    </tr>\n",
       "    <tr>\n",
       "      <th>...</th>\n",
       "      <td>...</td>\n",
       "      <td>...</td>\n",
       "      <td>...</td>\n",
       "      <td>...</td>\n",
       "      <td>...</td>\n",
       "      <td>...</td>\n",
       "    </tr>\n",
       "    <tr>\n",
       "      <th>9646</th>\n",
       "      <td>21432</td>\n",
       "      <td>HALL OF JUSTICE</td>\n",
       "      <td>217 W TEMPLE AVE</td>\n",
       "      <td>False</td>\n",
       "      <td>Restaurant</td>\n",
       "      <td>122</td>\n",
       "    </tr>\n",
       "    <tr>\n",
       "      <th>9647</th>\n",
       "      <td>21433</td>\n",
       "      <td>FIN-MELROSE</td>\n",
       "      <td>5750 MELROSE AVE</td>\n",
       "      <td>False</td>\n",
       "      <td>Restaurant</td>\n",
       "      <td>93</td>\n",
       "    </tr>\n",
       "    <tr>\n",
       "      <th>9648</th>\n",
       "      <td>21434</td>\n",
       "      <td>JUICY WINGZ</td>\n",
       "      <td>6741 HOLLYWOOD BLVD</td>\n",
       "      <td>True</td>\n",
       "      <td>Fast Food</td>\n",
       "      <td>15</td>\n",
       "    </tr>\n",
       "    <tr>\n",
       "      <th>9649</th>\n",
       "      <td>21435</td>\n",
       "      <td>MEDIDATE COFFEE</td>\n",
       "      <td>548 S SPRING ST STE 100</td>\n",
       "      <td>False</td>\n",
       "      <td>Cafe</td>\n",
       "      <td>6</td>\n",
       "    </tr>\n",
       "    <tr>\n",
       "      <th>9650</th>\n",
       "      <td>21436</td>\n",
       "      <td>CAFE SPROUTS</td>\n",
       "      <td>1300 S SAN PEDRO ST STE 111</td>\n",
       "      <td>True</td>\n",
       "      <td>Restaurant</td>\n",
       "      <td>19</td>\n",
       "    </tr>\n",
       "  </tbody>\n",
       "</table>\n",
       "<p>9651 rows × 6 columns</p>\n",
       "</div>"
      ],
      "text/plain": [
       "         id          object_name                      address  chain  \\\n",
       "0     11786  HABITAT COFFEE SHOP       3708 N EAGLE ROCK BLVD  False   \n",
       "1     11787             REILLY'S            100 WORLD WAY 120  False   \n",
       "2     11788       STREET CHURROS      6801 HOLLYWOOD BLVD 253  False   \n",
       "3     11789    TRINITI ECHO PARK           1814 W SUNSET BLVD  False   \n",
       "4     11790               POLLEN           2100 ECHO PARK AVE  False   \n",
       "...     ...                  ...                          ...    ...   \n",
       "9646  21432      HALL OF JUSTICE             217 W TEMPLE AVE  False   \n",
       "9647  21433          FIN-MELROSE             5750 MELROSE AVE  False   \n",
       "9648  21434          JUICY WINGZ          6741 HOLLYWOOD BLVD   True   \n",
       "9649  21435      MEDIDATE COFFEE      548 S SPRING ST STE 100  False   \n",
       "9650  21436         CAFE SPROUTS  1300 S SAN PEDRO ST STE 111   True   \n",
       "\n",
       "     object_type  number  \n",
       "0           Cafe      26  \n",
       "1     Restaurant       9  \n",
       "2      Fast Food      20  \n",
       "3     Restaurant      22  \n",
       "4     Restaurant      20  \n",
       "...          ...     ...  \n",
       "9646  Restaurant     122  \n",
       "9647  Restaurant      93  \n",
       "9648   Fast Food      15  \n",
       "9649        Cafe       6  \n",
       "9650  Restaurant      19  \n",
       "\n",
       "[9651 rows x 6 columns]"
      ]
     },
     "execution_count": 160,
     "metadata": {},
     "output_type": "execute_result"
    }
   ],
   "source": [
    "df = pd.read_csv('rest_data_us_upd.csv')\n",
    "\n",
    "df"
   ]
  },
  {
   "cell_type": "code",
   "execution_count": 161,
   "id": "0d91c750",
   "metadata": {},
   "outputs": [
    {
     "name": "stdout",
     "output_type": "stream",
     "text": [
      "<class 'pandas.core.frame.DataFrame'>\n",
      "RangeIndex: 9651 entries, 0 to 9650\n",
      "Data columns (total 6 columns):\n",
      " #   Column       Non-Null Count  Dtype \n",
      "---  ------       --------------  ----- \n",
      " 0   id           9651 non-null   int64 \n",
      " 1   object_name  9651 non-null   object\n",
      " 2   address      9651 non-null   object\n",
      " 3   chain        9648 non-null   object\n",
      " 4   object_type  9651 non-null   object\n",
      " 5   number       9651 non-null   int64 \n",
      "dtypes: int64(2), object(4)\n",
      "memory usage: 452.5+ KB\n",
      "None\n"
     ]
    }
   ],
   "source": [
    "print(df.info())"
   ]
  },
  {
   "cell_type": "code",
   "execution_count": 162,
   "id": "e2c7c54b",
   "metadata": {},
   "outputs": [
    {
     "name": "stdout",
     "output_type": "stream",
     "text": [
      "                 id       number\n",
      "count   9651.000000  9651.000000\n",
      "mean   16611.000000    43.695161\n",
      "std     2786.148058    47.622874\n",
      "min    11786.000000     1.000000\n",
      "25%    14198.500000    14.000000\n",
      "50%    16611.000000    27.000000\n",
      "75%    19023.500000    46.000000\n",
      "max    21436.000000   229.000000\n"
     ]
    }
   ],
   "source": [
    "print(df.describe())"
   ]
  },
  {
   "cell_type": "markdown",
   "id": "bc337996",
   "metadata": {},
   "source": [
    "<a id=\"verificacao_dados\"></a>\n",
    "### 1.1 Verificação de duplicados e nulos "
   ]
  },
  {
   "cell_type": "markdown",
   "id": "6cf53e8e",
   "metadata": {},
   "source": [
    "    Duplicados: Sem valores duplicados;\n",
    "    Nulos: 3 valores nulos na coluna 'chain', optado por exclui-los pela quantidade;"
   ]
  },
  {
   "cell_type": "code",
   "execution_count": 163,
   "id": "576c00cd",
   "metadata": {},
   "outputs": [
    {
     "name": "stdout",
     "output_type": "stream",
     "text": [
      "0\n"
     ]
    }
   ],
   "source": [
    "print(df.duplicated().sum())"
   ]
  },
  {
   "cell_type": "code",
   "execution_count": 164,
   "id": "12bbbf5b",
   "metadata": {},
   "outputs": [
    {
     "name": "stdout",
     "output_type": "stream",
     "text": [
      "id             0\n",
      "object_name    0\n",
      "address        0\n",
      "chain          3\n",
      "object_type    0\n",
      "number         0\n",
      "dtype: int64\n",
      "\n",
      "         id              object_name               address chain object_type  \\\n",
      "7408  19194  TAQUERIA LOS 3 CARNALES  5000 E WHITTIER BLVD   NaN  Restaurant   \n",
      "7523  19309     JAMMIN JIMMY'S PIZZA   1641 FIRESTONE BLVD   NaN       Pizza   \n",
      "8648  20434    THE LEXINGTON THEATER          129 E 3RD ST   NaN  Restaurant   \n",
      "\n",
      "      number  \n",
      "7408      14  \n",
      "7523       1  \n",
      "8648      35  \n"
     ]
    }
   ],
   "source": [
    "print(df.isna().sum())\n",
    "print()\n",
    "print(df[df['chain'].isna()])"
   ]
  },
  {
   "cell_type": "code",
   "execution_count": 165,
   "id": "fbafdead",
   "metadata": {},
   "outputs": [
    {
     "name": "stdout",
     "output_type": "stream",
     "text": [
      "id             0\n",
      "object_name    0\n",
      "address        0\n",
      "chain          0\n",
      "object_type    0\n",
      "number         0\n",
      "dtype: int64\n"
     ]
    }
   ],
   "source": [
    "rest_df = df.dropna()\n",
    "print(rest_df.isna().sum())"
   ]
  },
  {
   "cell_type": "markdown",
   "id": "6e0bdf05-a428-4128-9ba5-436c3e69cf00",
   "metadata": {},
   "source": [
    "<div class=\"alert alert-success\">\n",
    "<strong>Comentário do revisor v1</strong>\n",
    "\n",
    "Excelente trabalho checando a consistência dos dados.\n",
    "\n",
    "Sempre importante para garantir uma análise robusta!\n",
    "</div>\n",
    "\n"
   ]
  },
  {
   "cell_type": "markdown",
   "id": "6d5ac8c5",
   "metadata": {},
   "source": [
    "<a id=\"analise_exploratoria\"></a>\n",
    "## 2 Análise exploratória"
   ]
  },
  {
   "cell_type": "markdown",
   "id": "d478c253",
   "metadata": {},
   "source": [
    "<a id=\"agrupamentos_iniciais\"></a>\n",
    "### 2.1 Agrupamentos iniciais"
   ]
  },
  {
   "cell_type": "code",
   "execution_count": 166,
   "id": "c67917ef",
   "metadata": {},
   "outputs": [],
   "source": [
    "# agrupamento por tipo\n",
    "group_type = rest_df.groupby('object_type').agg({'id':'count'}).reset_index()\n",
    "\n",
    "# agrupamento por rede\n",
    "group_chain = rest_df.groupby('chain').agg({'id':'count'}).reset_index()\n"
   ]
  },
  {
   "cell_type": "markdown",
   "id": "88330d2c",
   "metadata": {},
   "source": [
    "<a id=\"graficos_iniciais\"></a>\n",
    "### 2.2 Gráficos iniciais"
   ]
  },
  {
   "cell_type": "markdown",
   "id": "be9c49f4",
   "metadata": {},
   "source": [
    "    Verificação do tipo de estabelecimentos mais relevantes em quantidade"
   ]
  },
  {
   "cell_type": "code",
   "execution_count": 167,
   "id": "a2c09c0f",
   "metadata": {},
   "outputs": [
    {
     "data": {
      "text/plain": [
       "Text(0.5, 1.0, 'Quantidade de estabelecimentos x Tipo')"
      ]
     },
     "execution_count": 167,
     "metadata": {},
     "output_type": "execute_result"
    },
    {
     "data": {
      "image/png": "[encoded data removed]",
      "text/plain": [
       "<Figure size 640x480 with 1 Axes>"
      ]
     },
     "metadata": {},
     "output_type": "display_data"
    }
   ],
   "source": [
    "# gráfico por tipo e quantidade de estabelecimentos\n",
    "\n",
    "g1 = sns.barplot(\n",
    "    data=group_type, \n",
    "    x='object_type', \n",
    "    y='id',\n",
    "    )\n",
    "g1.set_xlabel('Tipo de Negócio')\n",
    "g1.set_ylabel('Quantidade')\n",
    "plt.title('Quantidade de estabelecimentos x Tipo')"
   ]
  },
  {
   "cell_type": "markdown",
   "id": "06a16ab4",
   "metadata": {},
   "source": [
    "    Verificação da proporção de estabelicimentos que são de Rede e os que são independentes"
   ]
  },
  {
   "cell_type": "code",
   "execution_count": 168,
   "id": "3a0e170a",
   "metadata": {},
   "outputs": [
    {
     "name": "stdout",
     "output_type": "stream",
     "text": [
      "   chain    id\n",
      "0  False  5972\n",
      "1   True  3676\n"
     ]
    },
    {
     "data": {
      "application/vnd.plotly.v1+json": {
       "config": {
        "plotlyServerURL": "https://plot.ly"
       },
       "data": [
        {
         "labels": [
          false,
          true
         ],
         "type": "pie",
         "values": [
          5972,
          3676
         ]
        }
       ],
       "layout": {
        "template": {
         "data": {
          "bar": [
           {
            "error_x": {
             "color": "#2a3f5f"
            },
            "error_y": {
             "color": "#2a3f5f"
            },
            "marker": {
             "line": {
              "color": "#E5ECF6",
              "width": 0.5
             },
             "pattern": {
              "fillmode": "overlay",
              "size": 10,
              "solidity": 0.2
             }
            },
            "type": "bar"
           }
          ],
          "barpolar": [
           {
            "marker": {
             "line": {
              "color": "#E5ECF6",
              "width": 0.5
             },
             "pattern": {
              "fillmode": "overlay",
              "size": 10,
              "solidity": 0.2
             }
            },
            "type": "barpolar"
           }
          ],
          "carpet": [
           {
            "aaxis": {
             "endlinecolor": "#2a3f5f",
             "gridcolor": "white",
             "linecolor": "white",
             "minorgridcolor": "white",
             "startlinecolor": "#2a3f5f"
            },
            "baxis": {
             "endlinecolor": "#2a3f5f",
             "gridcolor": "white",
             "linecolor": "white",
             "minorgridcolor": "white",
             "startlinecolor": "#2a3f5f"
            },
            "type": "carpet"
           }
          ],
          "choropleth": [
           {
            "colorbar": {
             "outlinewidth": 0,
             "ticks": ""
            },
            "type": "choropleth"
           }
          ],
          "contour": [
           {
            "colorbar": {
             "outlinewidth": 0,
             "ticks": ""
            },
            "colorscale": [
             [
              0,
              "#0d0887"
             ],
             [
              0.1111111111111111,
              "#46039f"
             ],
             [
              0.2222222222222222,
              "#7201a8"
             ],
             [
              0.3333333333333333,
              "#9c179e"
             ],
             [
              0.4444444444444444,
              "#bd3786"
             ],
             [
              0.5555555555555556,
              "#d8576b"
             ],
             [
              0.6666666666666666,
              "#ed7953"
             ],
             [
              0.7777777777777778,
              "#fb9f3a"
             ],
             [
              0.8888888888888888,
              "#fdca26"
             ],
             [
              1,
              "#f0f921"
             ]
            ],
            "type": "contour"
           }
          ],
          "contourcarpet": [
           {
            "colorbar": {
             "outlinewidth": 0,
             "ticks": ""
            },
            "type": "contourcarpet"
           }
          ],
          "heatmap": [
           {
            "colorbar": {
             "outlinewidth": 0,
             "ticks": ""
            },
            "colorscale": [
             [
              0,
              "#0d0887"
             ],
             [
              0.1111111111111111,
              "#46039f"
             ],
             [
              0.2222222222222222,
              "#7201a8"
             ],
             [
              0.3333333333333333,
              "#9c179e"
             ],
             [
              0.4444444444444444,
              "#bd3786"
             ],
             [
              0.5555555555555556,
              "#d8576b"
             ],
             [
              0.6666666666666666,
              "#ed7953"
             ],
             [
              0.7777777777777778,
              "#fb9f3a"
             ],
             [
              0.8888888888888888,
              "#fdca26"
             ],
             [
              1,
              "#f0f921"
             ]
            ],
            "type": "heatmap"
           }
          ],
          "heatmapgl": [
           {
            "colorbar": {
             "outlinewidth": 0,
             "ticks": ""
            },
            "colorscale": [
             [
              0,
              "#0d0887"
             ],
             [
              0.1111111111111111,
              "#46039f"
             ],
             [
              0.2222222222222222,
              "#7201a8"
             ],
             [
              0.3333333333333333,
              "#9c179e"
             ],
             [
              0.4444444444444444,
              "#bd3786"
             ],
             [
              0.5555555555555556,
              "#d8576b"
             ],
             [
              0.6666666666666666,
              "#ed7953"
             ],
             [
              0.7777777777777778,
              "#fb9f3a"
             ],
             [
              0.8888888888888888,
              "#fdca26"
             ],
             [
              1,
              "#f0f921"
             ]
            ],
            "type": "heatmapgl"
           }
          ],
          "histogram": [
           {
            "marker": {
             "pattern": {
              "fillmode": "overlay",
              "size": 10,
              "solidity": 0.2
             }
            },
            "type": "histogram"
           }
          ],
          "histogram2d": [
           {
            "colorbar": {
             "outlinewidth": 0,
             "ticks": ""
            },
            "colorscale": [
             [
              0,
              "#0d0887"
             ],
             [
              0.1111111111111111,
              "#46039f"
             ],
             [
              0.2222222222222222,
              "#7201a8"
             ],
             [
              0.3333333333333333,
              "#9c179e"
             ],
             [
              0.4444444444444444,
              "#bd3786"
             ],
             [
              0.5555555555555556,
              "#d8576b"
             ],
             [
              0.6666666666666666,
              "#ed7953"
             ],
             [
              0.7777777777777778,
              "#fb9f3a"
             ],
             [
              0.8888888888888888,
              "#fdca26"
             ],
             [
              1,
              "#f0f921"
             ]
            ],
            "type": "histogram2d"
           }
          ],
          "histogram2dcontour": [
           {
            "colorbar": {
             "outlinewidth": 0,
             "ticks": ""
            },
            "colorscale": [
             [
              0,
              "#0d0887"
             ],
             [
              0.1111111111111111,
              "#46039f"
             ],
             [
              0.2222222222222222,
              "#7201a8"
             ],
             [
              0.3333333333333333,
              "#9c179e"
             ],
             [
              0.4444444444444444,
              "#bd3786"
             ],
             [
              0.5555555555555556,
              "#d8576b"
             ],
             [
              0.6666666666666666,
              "#ed7953"
             ],
             [
              0.7777777777777778,
              "#fb9f3a"
             ],
             [
              0.8888888888888888,
              "#fdca26"
             ],
             [
              1,
              "#f0f921"
             ]
            ],
            "type": "histogram2dcontour"
           }
          ],
          "mesh3d": [
           {
            "colorbar": {
             "outlinewidth": 0,
             "ticks": ""
            },
            "type": "mesh3d"
           }
          ],
          "parcoords": [
           {
            "line": {
             "colorbar": {
              "outlinewidth": 0,
              "ticks": ""
             }
            },
            "type": "parcoords"
           }
          ],
          "pie": [
           {
            "automargin": true,
            "type": "pie"
           }
          ],
          "scatter": [
           {
            "fillpattern": {
             "fillmode": "overlay",
             "size": 10,
             "solidity": 0.2
            },
            "type": "scatter"
           }
          ],
          "scatter3d": [
           {
            "line": {
             "colorbar": {
              "outlinewidth": 0,
              "ticks": ""
             }
            },
            "marker": {
             "colorbar": {
              "outlinewidth": 0,
              "ticks": ""
             }
            },
            "type": "scatter3d"
           }
          ],
          "scattercarpet": [
           {
            "marker": {
             "colorbar": {
              "outlinewidth": 0,
              "ticks": ""
             }
            },
            "type": "scattercarpet"
           }
          ],
          "scattergeo": [
           {
            "marker": {
             "colorbar": {
              "outlinewidth": 0,
              "ticks": ""
             }
            },
            "type": "scattergeo"
           }
          ],
          "scattergl": [
           {
            "marker": {
             "colorbar": {
              "outlinewidth": 0,
              "ticks": ""
             }
            },
            "type": "scattergl"
           }
          ],
          "scattermapbox": [
           {
            "marker": {
             "colorbar": {
              "outlinewidth": 0,
              "ticks": ""
             }
            },
            "type": "scattermapbox"
           }
          ],
          "scatterpolar": [
           {
            "marker": {
             "colorbar": {
              "outlinewidth": 0,
              "ticks": ""
             }
            },
            "type": "scatterpolar"
           }
          ],
          "scatterpolargl": [
           {
            "marker": {
             "colorbar": {
              "outlinewidth": 0,
              "ticks": ""
             }
            },
            "type": "scatterpolargl"
           }
          ],
          "scatterternary": [
           {
            "marker": {
             "colorbar": {
              "outlinewidth": 0,
              "ticks": ""
             }
            },
            "type": "scatterternary"
           }
          ],
          "surface": [
           {
            "colorbar": {
             "outlinewidth": 0,
             "ticks": ""
            },
            "colorscale": [
             [
              0,
              "#0d0887"
             ],
             [
              0.1111111111111111,
              "#46039f"
             ],
             [
              0.2222222222222222,
              "#7201a8"
             ],
             [
              0.3333333333333333,
              "#9c179e"
             ],
             [
              0.4444444444444444,
              "#bd3786"
             ],
             [
              0.5555555555555556,
              "#d8576b"
             ],
             [
              0.6666666666666666,
              "#ed7953"
             ],
             [
              0.7777777777777778,
              "#fb9f3a"
             ],
             [
              0.8888888888888888,
              "#fdca26"
             ],
             [
              1,
              "#f0f921"
             ]
            ],
            "type": "surface"
           }
          ],
          "table": [
           {
            "cells": {
             "fill": {
              "color": "#EBF0F8"
             },
             "line": {
              "color": "white"
             }
            },
            "header": {
             "fill": {
              "color": "#C8D4E3"
             },
             "line": {
              "color": "white"
             }
            },
            "type": "table"
           }
          ]
         },
         "layout": {
          "annotationdefaults": {
           "arrowcolor": "#2a3f5f",
           "arrowhead": 0,
           "arrowwidth": 1
          },
          "autotypenumbers": "strict",
          "coloraxis": {
           "colorbar": {
            "outlinewidth": 0,
            "ticks": ""
           }
          },
          "colorscale": {
           "diverging": [
            [
             0,
             "#8e0152"
            ],
            [
             0.1,
             "#c51b7d"
            ],
            [
             0.2,
             "#de77ae"
            ],
            [
             0.3,
             "#f1b6da"
            ],
            [
             0.4,
             "#fde0ef"
            ],
            [
             0.5,
             "#f7f7f7"
            ],
            [
             0.6,
             "#e6f5d0"
            ],
            [
             0.7,
             "#b8e186"
            ],
            [
             0.8,
             "#7fbc41"
            ],
            [
             0.9,
             "#4d9221"
            ],
            [
             1,
             "#276419"
            ]
           ],
           "sequential": [
            [
             0,
             "#0d0887"
            ],
            [
             0.1111111111111111,
             "#46039f"
            ],
            [
             0.2222222222222222,
             "#7201a8"
            ],
            [
             0.3333333333333333,
             "#9c179e"
            ],
            [
             0.4444444444444444,
             "#bd3786"
            ],
            [
             0.5555555555555556,
             "#d8576b"
            ],
            [
             0.6666666666666666,
             "#ed7953"
            ],
            [
             0.7777777777777778,
             "#fb9f3a"
            ],
            [
             0.8888888888888888,
             "#fdca26"
            ],
            [
             1,
             "#f0f921"
            ]
           ],
           "sequentialminus": [
            [
             0,
             "#0d0887"
            ],
            [
             0.1111111111111111,
             "#46039f"
            ],
            [
             0.2222222222222222,
             "#7201a8"
            ],
            [
             0.3333333333333333,
             "#9c179e"
            ],
            [
             0.4444444444444444,
             "#bd3786"
            ],
            [
             0.5555555555555556,
             "#d8576b"
            ],
            [
             0.6666666666666666,
             "#ed7953"
            ],
            [
             0.7777777777777778,
             "#fb9f3a"
            ],
            [
             0.8888888888888888,
             "#fdca26"
            ],
            [
             1,
             "#f0f921"
            ]
           ]
          },
          "colorway": [
           "#636efa",
           "#EF553B",
           "#00cc96",
           "#ab63fa",
           "#FFA15A",
           "#19d3f3",
           "#FF6692",
           "#B6E880",
           "#FF97FF",
           "#FECB52"
          ],
          "font": {
           "color": "#2a3f5f"
          },
          "geo": {
           "bgcolor": "white",
           "lakecolor": "white",
           "landcolor": "#E5ECF6",
           "showlakes": true,
           "showland": true,
           "subunitcolor": "white"
          },
          "hoverlabel": {
           "align": "left"
          },
          "hovermode": "closest",
          "mapbox": {
           "style": "light"
          },
          "paper_bgcolor": "white",
          "plot_bgcolor": "#E5ECF6",
          "polar": {
           "angularaxis": {
            "gridcolor": "white",
            "linecolor": "white",
            "ticks": ""
           },
           "bgcolor": "#E5ECF6",
           "radialaxis": {
            "gridcolor": "white",
            "linecolor": "white",
            "ticks": ""
           }
          },
          "scene": {
           "xaxis": {
            "backgroundcolor": "#E5ECF6",
            "gridcolor": "white",
            "gridwidth": 2,
            "linecolor": "white",
            "showbackground": true,
            "ticks": "",
            "zerolinecolor": "white"
           },
           "yaxis": {
            "backgroundcolor": "#E5ECF6",
            "gridcolor": "white",
            "gridwidth": 2,
            "linecolor": "white",
            "showbackground": true,
            "ticks": "",
            "zerolinecolor": "white"
           },
           "zaxis": {
            "backgroundcolor": "#E5ECF6",
            "gridcolor": "white",
            "gridwidth": 2,
            "linecolor": "white",
            "showbackground": true,
            "ticks": "",
            "zerolinecolor": "white"
           }
          },
          "shapedefaults": {
           "line": {
            "color": "#2a3f5f"
           }
          },
          "ternary": {
           "aaxis": {
            "gridcolor": "white",
            "linecolor": "white",
            "ticks": ""
           },
           "baxis": {
            "gridcolor": "white",
            "linecolor": "white",
            "ticks": ""
           },
           "bgcolor": "#E5ECF6",
           "caxis": {
            "gridcolor": "white",
            "linecolor": "white",
            "ticks": ""
           }
          },
          "title": {
           "x": 0.05
          },
          "xaxis": {
           "automargin": true,
           "gridcolor": "white",
           "linecolor": "white",
           "ticks": "",
           "title": {
            "standoff": 15
           },
           "zerolinecolor": "white",
           "zerolinewidth": 2
          },
          "yaxis": {
           "automargin": true,
           "gridcolor": "white",
           "linecolor": "white",
           "ticks": "",
           "title": {
            "standoff": 15
           },
           "zerolinecolor": "white",
           "zerolinewidth": 2
          }
         }
        }
       }
      }
     },
     "metadata": {},
     "output_type": "display_data"
    }
   ],
   "source": [
    "print(group_chain)\n",
    "fig = go.Figure(data=[go.Pie(values=group_chain['id'], labels=group_chain['chain'])])\n",
    "fig.show()"
   ]
  },
  {
   "cell_type": "code",
   "execution_count": 169,
   "id": "861305aa",
   "metadata": {},
   "outputs": [
    {
     "data": {
      "text/plain": [
       "Text(0.5, 1.0, 'Proporção de Rede')"
      ]
     },
     "execution_count": 169,
     "metadata": {},
     "output_type": "execute_result"
    },
    {
     "data": {
      "image/png": "[encoded data removed]",
      "text/plain": [
       "<Figure size 640x480 with 1 Axes>"
      ]
     },
     "metadata": {},
     "output_type": "display_data"
    }
   ],
   "source": [
    "# gráfico por tipo e quantidade de estabelecimentos\n",
    "\n",
    "plt.pie(\n",
    "    group_chain['id'],\n",
    "    labels=group_chain['chain'], \n",
    "    autopct='%1.1f%%'\n",
    "    )\n",
    "plt.title('Proporção de Rede')\n",
    "\n",
    "# values=group_chain['id'], labels=group_chain['chain']"
   ]
  },
  {
   "cell_type": "markdown",
   "id": "1b6ae3a3-cd75-438e-ac2a-9923142c4483",
   "metadata": {},
   "source": [
    "<div class=\"alert alert-success\">\n",
    "<strong>Comentário do revisor v1</strong>\n",
    "\n",
    "Estudos relativos ao tipo de estabelecimento e a proporção de redes foram entregues.\n",
    "</div>\n",
    "\n"
   ]
  },
  {
   "cell_type": "markdown",
   "id": "0a4668c2",
   "metadata": {},
   "source": [
    "<a id=\"verificacoes\"></a>\n",
    "## 3 Hipóteses e Verificações"
   ]
  },
  {
   "cell_type": "markdown",
   "id": "4c0f312a",
   "metadata": {},
   "source": [
    "Verificação das proporções para Rede"
   ]
  },
  {
   "cell_type": "code",
   "execution_count": 170,
   "id": "5e8e7753",
   "metadata": {},
   "outputs": [
    {
     "name": "stdout",
     "output_type": "stream",
     "text": [
      "  object_type    id\n",
      "5  Restaurant  2292\n",
      "3   Fast Food   605\n",
      "0      Bakery   283\n",
      "2        Cafe   266\n",
      "4       Pizza   153\n",
      "1         Bar    77\n"
     ]
    }
   ],
   "source": [
    "# filtro por rede\n",
    "filtro_type_rede = rest_df[rest_df['chain']==True]\n",
    "\n",
    "# agrupamento por tipo e rede True\n",
    "group_type_rede = filtro_type_rede.groupby('object_type').agg({'id':'count'}).reset_index()\n",
    "\n",
    "print(group_type_rede.sort_values(by='id',ascending=False))\n"
   ]
  },
  {
   "cell_type": "markdown",
   "id": "bd528cf8",
   "metadata": {},
   "source": [
    "Verificação das proporções para Rede e independentes"
   ]
  },
  {
   "cell_type": "code",
   "execution_count": 171,
   "id": "a906e44d",
   "metadata": {},
   "outputs": [
    {
     "name": "stdout",
     "output_type": "stream",
     "text": [
      "   object_type  chain    id  number\n",
      "9   Restaurant  False  4961  245688\n",
      "10  Restaurant   True  2292  102810\n",
      "6    Fast Food   True   605   23044\n",
      "5    Fast Food  False   461   10895\n",
      "1          Bar  False   215    9972\n",
      "4         Cafe   True   266    6894\n",
      "0       Bakery   True   283    6162\n",
      "7        Pizza  False   166    5200\n",
      "3         Cafe  False   169    3981\n",
      "8        Pizza   True   153    3906\n",
      "2          Bar   True    77    3100\n"
     ]
    }
   ],
   "source": [
    "# agrupamento por tipo e rede e assentos\n",
    "group_type_number = rest_df.groupby(['object_type','chain']).agg({'id':'count','number':'sum'}).reset_index()\n",
    "\n",
    "print(group_type_number.sort_values(by=['number','chain'],ascending=[False,True]))"
   ]
  },
  {
   "cell_type": "markdown",
   "id": "d42826a9",
   "metadata": {},
   "source": [
    "<a id=\"graf_chain\"></a>\n",
    "### 3.1 Gráficos Rede True and False"
   ]
  },
  {
   "cell_type": "markdown",
   "id": "637930e2",
   "metadata": {},
   "source": [
    " - Quantidade geral de independentes é maior;\n",
    " - Rede: Restaurantes dominam, seguido por Fast Food"
   ]
  },
  {
   "cell_type": "code",
   "execution_count": 172,
   "id": "57ed2b63",
   "metadata": {},
   "outputs": [
    {
     "data": {
      "text/plain": [
       "Text(0.5, 1.0, 'Quantidade de estabelecimentos x Tipo x Rede')"
      ]
     },
     "execution_count": 172,
     "metadata": {},
     "output_type": "execute_result"
    },
    {
     "data": {
      "image/png": "[encoded data removed]",
      "text/plain": [
       "<Figure size 640x480 with 1 Axes>"
      ]
     },
     "metadata": {},
     "output_type": "display_data"
    }
   ],
   "source": [
    "# gráfico por tipo e rede e assentos\n",
    "# quantidade de estabelicimentos\n",
    "\n",
    "g2 = sns.barplot(\n",
    "    data=group_type_number, \n",
    "    x='object_type', \n",
    "    y='id', \n",
    "    hue='chain',)\n",
    "g2.set_xlabel('Tipo de Negócio')\n",
    "g2.set_ylabel('Quantidade')\n",
    "plt.title('Quantidade de estabelecimentos x Tipo x Rede')"
   ]
  },
  {
   "cell_type": "markdown",
   "id": "cfb06d82",
   "metadata": {},
   "source": [
    " - Número de cadeiras segue a mesma proporção dos estabelecimentos: Quantidade geral de independentes é maior; Rede: Restaurantes dominam, seguido por Fast Food"
   ]
  },
  {
   "cell_type": "markdown",
   "id": "10e138f8-ee0a-43f7-9869-ca091bdc5a71",
   "metadata": {},
   "source": [
    "<div class=\"alert alert-success\">\n",
    "<strong>Comentário do revisor v1</strong>\n",
    "\n",
    "Estudos específicos da proporção de redes por tipo de estabelecimento devidamente conduzidos.\n",
    "</div>\n",
    "\n"
   ]
  },
  {
   "cell_type": "code",
   "execution_count": 173,
   "id": "f74b8184",
   "metadata": {},
   "outputs": [
    {
     "data": {
      "text/plain": [
       "Text(0.5, 1.0, 'Quantidade de cadeiras x Tipo x Rede')"
      ]
     },
     "execution_count": 173,
     "metadata": {},
     "output_type": "execute_result"
    },
    {
     "data": {
      "image/png": "[encoded data removed]",
      "text/plain": [
       "<Figure size 640x480 with 1 Axes>"
      ]
     },
     "metadata": {},
     "output_type": "display_data"
    }
   ],
   "source": [
    "# gráfico por tipo e rede e assentos\n",
    "# quantidade de cadeiras\n",
    "\n",
    "g3 = sns.barplot(\n",
    "    data=group_type_number, \n",
    "    x='object_type', \n",
    "    y='number', \n",
    "    hue='chain',)\n",
    "g3.set_xlabel('Tipo de Negócio')\n",
    "g3.set_ylabel('Quantidade de cadeiras')\n",
    "plt.title('Quantidade de cadeiras x Tipo x Rede')"
   ]
  },
  {
   "cell_type": "markdown",
   "id": "1fa3d457",
   "metadata": {},
   "source": [
    "<a id=\"graf_media\"></a>\n",
    "### 3.2 Gráfico Média de Cadeiras"
   ]
  },
  {
   "cell_type": "code",
   "execution_count": 174,
   "id": "6ee530e9",
   "metadata": {},
   "outputs": [
    {
     "name": "stdout",
     "output_type": "stream",
     "text": [
      "   object_type  chain    id     number\n",
      "9   Restaurant  False  4961  49.523886\n",
      "1          Bar  False   215  46.381395\n",
      "10  Restaurant   True  2292  44.856021\n",
      "2          Bar   True    77  40.259740\n",
      "6    Fast Food   True   605  38.089256\n",
      "7        Pizza  False   166  31.325301\n",
      "4         Cafe   True   266  25.917293\n",
      "8        Pizza   True   153  25.529412\n",
      "5    Fast Food  False   461  23.633406\n",
      "3         Cafe  False   169  23.556213\n",
      "0       Bakery   True   283  21.773852\n"
     ]
    }
   ],
   "source": [
    "# \n",
    "# Determine o número médio de assentos para cada tipo de restaurante. \n",
    "# Em média, qual tipo de restaurante tem o maior número de assentos? Construa gráficos.\n",
    "\n",
    "# agrupamento por tipo e rede e assentos\n",
    "group_number_mean = rest_df.groupby(['object_type','chain']).agg({'id':'count','number':'mean'}).reset_index()\n",
    "\n",
    "print(group_number_mean.sort_values(by=['number','chain'],ascending=[False,True]))"
   ]
  },
  {
   "cell_type": "markdown",
   "id": "efc62e50",
   "metadata": {},
   "source": [
    " - As médias de cadeiras são próximas entre Rede e Independentes;\n",
    " - Tipo de estabelecimento que sai da média é Fast Food, onde em Rede é maior;"
   ]
  },
  {
   "cell_type": "code",
   "execution_count": 175,
   "id": "4fc7be27",
   "metadata": {},
   "outputs": [
    {
     "data": {
      "text/plain": [
       "Text(0.5, 1.0, 'Quantidade média de cadeiras x Tipo')"
      ]
     },
     "execution_count": 175,
     "metadata": {},
     "output_type": "execute_result"
    },
    {
     "data": {
      "image/png": "[encoded data removed]",
      "text/plain": [
       "<Figure size 640x480 with 1 Axes>"
      ]
     },
     "metadata": {},
     "output_type": "display_data"
    }
   ],
   "source": [
    "# gráfico por tipo e rede e assentos\n",
    "# quantidade média de cadeiras\n",
    "\n",
    "g4 = sns.barplot(\n",
    "    data=group_number_mean, \n",
    "    x='object_type', \n",
    "    y='number', \n",
    "    hue='chain',)\n",
    "g4.set_xlabel('Tipo de Negócio')\n",
    "g4.set_ylabel('Quantidade média de cadeiras')\n",
    "plt.title('Quantidade média de cadeiras x Tipo')"
   ]
  },
  {
   "cell_type": "markdown",
   "id": "54c9f755-de05-49a3-948e-d90cc6bc562f",
   "metadata": {},
   "source": [
    "<div class=\"alert alert-success\">\n",
    "<strong>Comentário do revisor v1</strong>\n",
    "\n",
    "Cálculo das médias foi realizado e devidamente ilustrado nessa sessão.\n",
    "</div>\n",
    "\n"
   ]
  },
  {
   "cell_type": "markdown",
   "id": "4d8537c7",
   "metadata": {},
   "source": [
    "<a id=\"df_ruas\"></a>\n",
    "## 4 Análise do negócio por endereço"
   ]
  },
  {
   "cell_type": "markdown",
   "id": "1375bd98-99bc-44e2-8562-e969695e9286",
   "metadata": {},
   "source": [
    "<div class=\"alert alert-danger\">\n",
    "<strong>Comentário do revisor v1</strong>\n",
    "\n",
    "Temos problemas aqui, Carlos.\n",
    "\n",
    "Os estudos propostos nessa sessão dependem da separação entre o número e o nome presentes nas strings com os endereços, para que os agrupamentos possam ser devidamente realizados com as ruas.\n",
    "\n",
    "Vamos focar no uso de regex para a realização dessa separação e revisão das análises dessa sessão, combinado?\n",
    "</div>\n",
    "\n"
   ]
  },
  {
   "cell_type": "markdown",
   "id": "18259883",
   "metadata": {},
   "source": [
    "<div class=\"alert alert-info\">\n",
    "<strong>Comentário do estudante</strong>\n",
    "\n",
    "Alteração no df utilizando Regex e criando uma nova coluna de ruas sem os números.\n",
    "Refeita as análises.\n",
    "</div>"
   ]
  },
  {
   "cell_type": "markdown",
   "id": "5165e303",
   "metadata": {},
   "source": [
    "    Novo agrupamento somente com os nomes das ruas, retiranto os números"
   ]
  },
  {
   "cell_type": "code",
   "execution_count": 176,
   "id": "6b68bf5e",
   "metadata": {},
   "outputs": [
    {
     "name": "stderr",
     "output_type": "stream",
     "text": [
      "C:\\Users\\carlo\\AppData\\Local\\Temp\\ipykernel_13380\\3158390153.py:1: SettingWithCopyWarning:\n",
      "\n",
      "\n",
      "A value is trying to be set on a copy of a slice from a DataFrame.\n",
      "Try using .loc[row_indexer,col_indexer] = value instead\n",
      "\n",
      "See the caveats in the documentation: https://pandas.pydata.org/pandas-docs/stable/user_guide/indexing.html#returning-a-view-versus-a-copy\n",
      "\n"
     ]
    },
    {
     "data": {
      "text/html": [
       "<div>\n",
       "<style scoped>\n",
       "    .dataframe tbody tr th:only-of-type {\n",
       "        vertical-align: middle;\n",
       "    }\n",
       "\n",
       "    .dataframe tbody tr th {\n",
       "        vertical-align: top;\n",
       "    }\n",
       "\n",
       "    .dataframe thead th {\n",
       "        text-align: right;\n",
       "    }\n",
       "</style>\n",
       "<table border=\"1\" class=\"dataframe\">\n",
       "  <thead>\n",
       "    <tr style=\"text-align: right;\">\n",
       "      <th></th>\n",
       "      <th>id</th>\n",
       "      <th>object_name</th>\n",
       "      <th>address</th>\n",
       "      <th>chain</th>\n",
       "      <th>object_type</th>\n",
       "      <th>number</th>\n",
       "      <th>street</th>\n",
       "    </tr>\n",
       "  </thead>\n",
       "  <tbody>\n",
       "    <tr>\n",
       "      <th>0</th>\n",
       "      <td>11786</td>\n",
       "      <td>HABITAT COFFEE SHOP</td>\n",
       "      <td>3708 N EAGLE ROCK BLVD</td>\n",
       "      <td>False</td>\n",
       "      <td>Cafe</td>\n",
       "      <td>26</td>\n",
       "      <td>N EAGLE ROCK BLVD</td>\n",
       "    </tr>\n",
       "    <tr>\n",
       "      <th>1</th>\n",
       "      <td>11787</td>\n",
       "      <td>REILLY'S</td>\n",
       "      <td>100 WORLD WAY 120</td>\n",
       "      <td>False</td>\n",
       "      <td>Restaurant</td>\n",
       "      <td>9</td>\n",
       "      <td>WORLD WAY 120</td>\n",
       "    </tr>\n",
       "    <tr>\n",
       "      <th>2</th>\n",
       "      <td>11788</td>\n",
       "      <td>STREET CHURROS</td>\n",
       "      <td>6801 HOLLYWOOD BLVD 253</td>\n",
       "      <td>False</td>\n",
       "      <td>Fast Food</td>\n",
       "      <td>20</td>\n",
       "      <td>HOLLYWOOD BLVD 253</td>\n",
       "    </tr>\n",
       "    <tr>\n",
       "      <th>3</th>\n",
       "      <td>11789</td>\n",
       "      <td>TRINITI ECHO PARK</td>\n",
       "      <td>1814 W SUNSET BLVD</td>\n",
       "      <td>False</td>\n",
       "      <td>Restaurant</td>\n",
       "      <td>22</td>\n",
       "      <td>W SUNSET BLVD</td>\n",
       "    </tr>\n",
       "    <tr>\n",
       "      <th>4</th>\n",
       "      <td>11790</td>\n",
       "      <td>POLLEN</td>\n",
       "      <td>2100 ECHO PARK AVE</td>\n",
       "      <td>False</td>\n",
       "      <td>Restaurant</td>\n",
       "      <td>20</td>\n",
       "      <td>ECHO PARK AVE</td>\n",
       "    </tr>\n",
       "    <tr>\n",
       "      <th>...</th>\n",
       "      <td>...</td>\n",
       "      <td>...</td>\n",
       "      <td>...</td>\n",
       "      <td>...</td>\n",
       "      <td>...</td>\n",
       "      <td>...</td>\n",
       "      <td>...</td>\n",
       "    </tr>\n",
       "    <tr>\n",
       "      <th>9646</th>\n",
       "      <td>21432</td>\n",
       "      <td>HALL OF JUSTICE</td>\n",
       "      <td>217 W TEMPLE AVE</td>\n",
       "      <td>False</td>\n",
       "      <td>Restaurant</td>\n",
       "      <td>122</td>\n",
       "      <td>W TEMPLE AVE</td>\n",
       "    </tr>\n",
       "    <tr>\n",
       "      <th>9647</th>\n",
       "      <td>21433</td>\n",
       "      <td>FIN-MELROSE</td>\n",
       "      <td>5750 MELROSE AVE</td>\n",
       "      <td>False</td>\n",
       "      <td>Restaurant</td>\n",
       "      <td>93</td>\n",
       "      <td>MELROSE AVE</td>\n",
       "    </tr>\n",
       "    <tr>\n",
       "      <th>9648</th>\n",
       "      <td>21434</td>\n",
       "      <td>JUICY WINGZ</td>\n",
       "      <td>6741 HOLLYWOOD BLVD</td>\n",
       "      <td>True</td>\n",
       "      <td>Fast Food</td>\n",
       "      <td>15</td>\n",
       "      <td>HOLLYWOOD BLVD</td>\n",
       "    </tr>\n",
       "    <tr>\n",
       "      <th>9649</th>\n",
       "      <td>21435</td>\n",
       "      <td>MEDIDATE COFFEE</td>\n",
       "      <td>548 S SPRING ST STE 100</td>\n",
       "      <td>False</td>\n",
       "      <td>Cafe</td>\n",
       "      <td>6</td>\n",
       "      <td>S SPRING ST STE 100</td>\n",
       "    </tr>\n",
       "    <tr>\n",
       "      <th>9650</th>\n",
       "      <td>21436</td>\n",
       "      <td>CAFE SPROUTS</td>\n",
       "      <td>1300 S SAN PEDRO ST STE 111</td>\n",
       "      <td>True</td>\n",
       "      <td>Restaurant</td>\n",
       "      <td>19</td>\n",
       "      <td>S SAN PEDRO ST STE 111</td>\n",
       "    </tr>\n",
       "  </tbody>\n",
       "</table>\n",
       "<p>9648 rows × 7 columns</p>\n",
       "</div>"
      ],
      "text/plain": [
       "         id          object_name                      address  chain  \\\n",
       "0     11786  HABITAT COFFEE SHOP       3708 N EAGLE ROCK BLVD  False   \n",
       "1     11787             REILLY'S            100 WORLD WAY 120  False   \n",
       "2     11788       STREET CHURROS      6801 HOLLYWOOD BLVD 253  False   \n",
       "3     11789    TRINITI ECHO PARK           1814 W SUNSET BLVD  False   \n",
       "4     11790               POLLEN           2100 ECHO PARK AVE  False   \n",
       "...     ...                  ...                          ...    ...   \n",
       "9646  21432      HALL OF JUSTICE             217 W TEMPLE AVE  False   \n",
       "9647  21433          FIN-MELROSE             5750 MELROSE AVE  False   \n",
       "9648  21434          JUICY WINGZ          6741 HOLLYWOOD BLVD   True   \n",
       "9649  21435      MEDIDATE COFFEE      548 S SPRING ST STE 100  False   \n",
       "9650  21436         CAFE SPROUTS  1300 S SAN PEDRO ST STE 111   True   \n",
       "\n",
       "     object_type  number                  street  \n",
       "0           Cafe      26       N EAGLE ROCK BLVD  \n",
       "1     Restaurant       9           WORLD WAY 120  \n",
       "2      Fast Food      20      HOLLYWOOD BLVD 253  \n",
       "3     Restaurant      22           W SUNSET BLVD  \n",
       "4     Restaurant      20           ECHO PARK AVE  \n",
       "...          ...     ...                     ...  \n",
       "9646  Restaurant     122            W TEMPLE AVE  \n",
       "9647  Restaurant      93             MELROSE AVE  \n",
       "9648   Fast Food      15          HOLLYWOOD BLVD  \n",
       "9649        Cafe       6     S SPRING ST STE 100  \n",
       "9650  Restaurant      19  S SAN PEDRO ST STE 111  \n",
       "\n",
       "[9648 rows x 7 columns]"
      ]
     },
     "execution_count": 176,
     "metadata": {},
     "output_type": "execute_result"
    }
   ],
   "source": [
    "rest_df['street'] = rest_df['address'].str.replace(r'^\\d+\\s+', '', regex=True)\n",
    "\n",
    "rest_df"
   ]
  },
  {
   "cell_type": "markdown",
   "id": "3e749b09",
   "metadata": {},
   "source": [
    " - Verificamos a predominância de estabelecimentos independentes;\n",
    " - Mesmo com agrupamento sendo feito separando as Redes, é possível verificar os locais mais movimentados;\n",
    " - Podemos ver a predominância do tipo Restaurantes nos locais mais movimentados;"
   ]
  },
  {
   "cell_type": "code",
   "execution_count": 177,
   "id": "1308ceae",
   "metadata": {},
   "outputs": [
    {
     "name": "stdout",
     "output_type": "stream",
     "text": [
      "                 street object_type  chain   id  number\n",
      "3710      W SUNSET BLVD  Restaurant  False  158    8899\n",
      "3615        W PICO BLVD  Restaurant  False  169    7263\n",
      "3926      WILSHIRE BLVD  Restaurant  False  100    6358\n",
      "882      HOLLYWOOD BLVD  Restaurant  False  101    5829\n",
      "1119        MELROSE AVE  Restaurant  False   85    4828\n",
      "3021           W 3RD ST  Restaurant  False   86    4427\n",
      "212        BEVERLY BLVD  Restaurant  False   77    4314\n",
      "3511     W OLYMPIC BLVD  Restaurant  False   72    4209\n",
      "1895      S FIGUEROA ST  Restaurant  False   69    4140\n",
      "2525      S WESTERN AVE  Restaurant  False   64    3356\n",
      "2447      S VERMONT AVE  Restaurant  False   71    3235\n",
      "3711      W SUNSET BLVD  Restaurant   True   59    3189\n",
      "3275           W 8TH ST  Restaurant  False   54    2780\n",
      "3865      WESTWOOD BLVD  Restaurant  False   46    2745\n",
      "3245           W 7TH ST  Restaurant  False   38    2611\n",
      "3616        W PICO BLVD  Restaurant   True   49    2594\n",
      "1234    N CAHUENGA BLVD  Restaurant  False   31    2432\n",
      "3927      WILSHIRE BLVD  Restaurant   True   31    2428\n",
      "2708  SANTA MONICA BLVD  Restaurant  False   75    2354\n",
      "3134           W 6TH ST  Restaurant  False   49    2341\n"
     ]
    }
   ],
   "source": [
    "# agrupamento por tipo e rede e assentos\n",
    "group_address = rest_df.groupby(['street','object_type','chain']).agg({'id':'count','number':'sum'}).reset_index()\n",
    "\n",
    "print(group_address.sort_values(by=['number','chain'],ascending=[False,True]).head(20))"
   ]
  },
  {
   "cell_type": "code",
   "execution_count": 178,
   "id": "1e647273",
   "metadata": {},
   "outputs": [
    {
     "name": "stdout",
     "output_type": "stream",
     "text": [
      "         id          object_name                      address  chain  \\\n",
      "0     11786  HABITAT COFFEE SHOP       3708 N EAGLE ROCK BLVD  False   \n",
      "1     11787             REILLY'S            100 WORLD WAY 120  False   \n",
      "2     11788       STREET CHURROS      6801 HOLLYWOOD BLVD 253  False   \n",
      "3     11789    TRINITI ECHO PARK           1814 W SUNSET BLVD  False   \n",
      "4     11790               POLLEN           2100 ECHO PARK AVE  False   \n",
      "...     ...                  ...                          ...    ...   \n",
      "9643  21432      HALL OF JUSTICE             217 W TEMPLE AVE  False   \n",
      "9644  21433          FIN-MELROSE             5750 MELROSE AVE  False   \n",
      "9645  21434          JUICY WINGZ          6741 HOLLYWOOD BLVD   True   \n",
      "9646  21435      MEDIDATE COFFEE      548 S SPRING ST STE 100  False   \n",
      "9647  21436         CAFE SPROUTS  1300 S SAN PEDRO ST STE 111   True   \n",
      "\n",
      "     object_type  number1                  street  number2  \n",
      "0           Cafe       26       N EAGLE ROCK BLVD       26  \n",
      "1     Restaurant        9           WORLD WAY 120        9  \n",
      "2      Fast Food       20      HOLLYWOOD BLVD 253       20  \n",
      "3     Restaurant       22           W SUNSET BLVD       22  \n",
      "4     Restaurant       20           ECHO PARK AVE       20  \n",
      "...          ...      ...                     ...      ...  \n",
      "9643  Restaurant      122            W TEMPLE AVE      122  \n",
      "9644  Restaurant       93             MELROSE AVE       93  \n",
      "9645   Fast Food       15          HOLLYWOOD BLVD       15  \n",
      "9646        Cafe        6     S SPRING ST STE 100        6  \n",
      "9647  Restaurant       19  S SAN PEDRO ST STE 111       19  \n",
      "\n",
      "[9648 rows x 8 columns]\n"
     ]
    }
   ],
   "source": [
    "# merge para obter duas colunas de cadeiras para realizar 2 operações de agregar\n",
    "\n",
    "merge_df = rest_df.merge(rest_df, on=['id','object_name','address','chain','object_type','street'], how='left', suffixes=(['1','2']))\n",
    "\n",
    "print(merge_df)"
   ]
  },
  {
   "cell_type": "markdown",
   "id": "87743dee",
   "metadata": {},
   "source": [
    " - Sem a distinção de Rede, é possivel verificar quais locais possuem a maior quantidade de estabelecimentos e podemos ordenar visualizando as médias de cadeiras e quantidades totais;"
   ]
  },
  {
   "cell_type": "code",
   "execution_count": 179,
   "id": "98432db5",
   "metadata": {},
   "outputs": [
    {
     "name": "stdout",
     "output_type": "stream",
     "text": [
      "                    street   id    number1  number2\n",
      "2680         W SUNSET BLVD  296  50.918919    15072\n",
      "2611           W PICO BLVD  288  40.878472    11773\n",
      "581         HOLLYWOOD BLVD  167  53.730539     8973\n",
      "2826         WILSHIRE BLVD  161  62.130435    10003\n",
      "1711         S VERMONT AVE  148  45.878378     6790\n",
      "...                    ...  ...        ...      ...\n",
      "2829    WILSHIRE BLVD #103    1   1.000000        1\n",
      "2886      WILSHIRE BLVD P1    1   1.000000        1\n",
      "2949  WILSHIRE BLVD STE 26    1   1.000000        1\n",
      "3011         WORLD WAY 645    1   1.000000        1\n",
      "3056         WORLD WAY T5B    1   1.000000        1\n",
      "\n",
      "[3077 rows x 4 columns]\n"
     ]
    }
   ],
   "source": [
    "# agrupamento por endereço e cadeiras\n",
    "group_merge_df = merge_df.groupby(['street',]).agg({'id':'count','number1':'mean','number2':'sum'}).reset_index()\n",
    "\n",
    "print(group_merge_df.sort_values(by=['id','number2'],ascending=[False,False]))"
   ]
  },
  {
   "cell_type": "markdown",
   "id": "cdc911d0",
   "metadata": {},
   "source": [
    "<a id=\"df_10\"></a>\n",
    "### 4.1 Análise dos principais endereços"
   ]
  },
  {
   "cell_type": "code",
   "execution_count": 180,
   "id": "b389f376",
   "metadata": {},
   "outputs": [
    {
     "name": "stdout",
     "output_type": "stream",
     "text": [
      "                 street   id    number1  number2\n",
      "2680      W SUNSET BLVD  296  50.918919    15072\n",
      "2611        W PICO BLVD  288  40.878472    11773\n",
      "581      HOLLYWOOD BLVD  167  53.730539     8973\n",
      "2826      WILSHIRE BLVD  161  62.130435    10003\n",
      "1711      S VERMONT AVE  148  45.878378     6790\n",
      "1922  SANTA MONICA BLVD  146  32.390411     4729\n",
      "2164           W 3RD ST  145  43.931034     6370\n",
      "147        BEVERLY BLVD  135  44.770370     6044\n",
      "1302      S FIGUEROA ST  134  50.761194     6802\n",
      "754         MELROSE AVE  128  52.429688     6711\n"
     ]
    }
   ],
   "source": [
    "address_10 = group_merge_df.nlargest(10,'id')\n",
    "print(address_10)"
   ]
  },
  {
   "cell_type": "markdown",
   "id": "be6a256a",
   "metadata": {},
   "source": [
    " - Temos 2 locais indicados em azul claro com as mesmas quantidade de estabelecimentos, mas com quantidades de cadeiras e médias diferentes apesar de próximas;\n",
    " - Temos 2 locais indicados em vermelho com as maiores quantidades de estabelecimentos, com alta quantidade de cadeiras mas com menores médias ;\n",
    "\n",
    " Dificuldade de verificar o impacto na análise ao separar em Rede;"
   ]
  },
  {
   "cell_type": "code",
   "execution_count": 181,
   "id": "a371a94c",
   "metadata": {},
   "outputs": [
    {
     "data": {
      "text/plain": [
       "Text(0.5, 1.0, 'Média de cadeiras X QTD de cadeiras x Núm de estabelecimentos')"
      ]
     },
     "execution_count": 181,
     "metadata": {},
     "output_type": "execute_result"
    },
    {
     "data": {
      "image/png": "[encoded data removed]",
      "text/plain": [
       "<Figure size 640x480 with 1 Axes>"
      ]
     },
     "metadata": {},
     "output_type": "display_data"
    }
   ],
   "source": [
    "g5 = sns.barplot(\n",
    "    data=address_10, \n",
    "    x='number2', \n",
    "    y='number1', \n",
    "    hue='id', \n",
    "    palette='coolwarm',) \n",
    "g5.set_xlabel('Média de cadeiras')\n",
    "g5.set_ylabel('QTD de cadeiras')\n",
    "plt.title('Média de cadeiras X QTD de cadeiras x Núm de estabelecimentos')\n"
   ]
  },
  {
   "cell_type": "code",
   "execution_count": 182,
   "id": "4e33f3ff",
   "metadata": {},
   "outputs": [
    {
     "data": {
      "image/png": "[encoded data removed]",
      "text/plain": [
       "<Figure size 700x500 with 1 Axes>"
      ]
     },
     "metadata": {},
     "output_type": "display_data"
    }
   ],
   "source": [
    "fig, g6 = plt.subplots(figsize=(7, 5))\n",
    "\n",
    "sns.barplot(\n",
    "    data=address_10, \n",
    "    x='number2', \n",
    "    y='number1', \n",
    "    hue='street', \n",
    "    palette='coolwarm',\n",
    "    ax=g6) \n",
    "g6.set_ylabel('Média de cadeiras')\n",
    "g6.set_xlabel('QTD de cadeiras')\n",
    "plt.title('Média de cadeiras X QTD de cadeiras x Local')\n",
    "\n",
    "plt.show()"
   ]
  },
  {
   "cell_type": "code",
   "execution_count": 183,
   "id": "b4f03ebf",
   "metadata": {},
   "outputs": [
    {
     "data": {
      "image/png": "[encoded data removed]",
      "text/plain": [
       "<Figure size 900x550 with 2 Axes>"
      ]
     },
     "metadata": {},
     "output_type": "display_data"
    }
   ],
   "source": [
    "fig, g6 = plt.subplots(figsize=(9, 5.5))\n",
    "\n",
    "sns.barplot(\n",
    "    data=address_10, \n",
    "    x='number2', \n",
    "    y='number1', \n",
    "    hue='street', \n",
    "    palette='coolwarm',\n",
    "    ax=g6) \n",
    "g6.set_ylabel('Média de cadeiras')\n",
    "\n",
    "g6_eixo2 = g6.twinx()\n",
    "\n",
    "sns.lineplot(\n",
    "    data=address_10,\n",
    "    x='number2',\n",
    "    y='id',\n",
    "    hue='street',\n",
    "    palette='coolwarm',\n",
    "    ax=g6_eixo2,\n",
    "    )\n",
    "g6_eixo2.set_ylabel('Quantidade por Local')\n",
    "g6_eixo2.legend_.remove()\n",
    "\n",
    "g6.set_xlabel('QTD de cadeiras')\n",
    "plt.title('Média de cadeiras X QTD de cadeiras x Quantidade por Local')\n",
    "\n",
    "plt.show()"
   ]
  },
  {
   "cell_type": "code",
   "execution_count": 184,
   "id": "1aa05bec",
   "metadata": {},
   "outputs": [
    {
     "name": "stdout",
     "output_type": "stream",
     "text": [
      "street     2450\n",
      "id         2450\n",
      "number1    2450\n",
      "number2    2450\n",
      "dtype: int64\n"
     ]
    }
   ],
   "source": [
    "# agrupamento por endereço e cadeiras\n",
    "group_address_min = merge_df.groupby(['street',]).agg({'id':'count','number1':'mean','number2':'sum'}).reset_index()\n",
    "group_address_min1 = group_address_min[group_address_min['id']==1]\n",
    "\n",
    "print(group_address_min1.count())"
   ]
  },
  {
   "cell_type": "markdown",
   "id": "0b8ac395",
   "metadata": {},
   "source": [
    "<a id=\"df_10_TF\"></a>\n",
    "### 4.2 Análise dos principais endereços por Rede True and False"
   ]
  },
  {
   "cell_type": "code",
   "execution_count": 185,
   "id": "1ed179e8",
   "metadata": {},
   "outputs": [
    {
     "name": "stdout",
     "output_type": "stream",
     "text": [
      "                 street  chain object_type   id    number1  number2\n",
      "3610        W PICO BLVD  False  Restaurant  169  42.976331     7263\n",
      "3705      W SUNSET BLVD  False  Restaurant  158  56.322785     8899\n",
      "877      HOLLYWOOD BLVD  False  Restaurant  101  57.712871     5829\n",
      "3921      WILSHIRE BLVD  False  Restaurant  100  63.580000     6358\n",
      "3017           W 3RD ST  False  Restaurant   86  51.476744     4427\n",
      "1115        MELROSE AVE  False  Restaurant   85  56.800000     4828\n",
      "208        BEVERLY BLVD  False  Restaurant   77  56.025974     4314\n",
      "2703  SANTA MONICA BLVD  False  Restaurant   75  31.386667     2354\n",
      "3507     W OLYMPIC BLVD  False  Restaurant   72  58.458333     4209\n",
      "2443      S VERMONT AVE  False  Restaurant   71  45.563380     3235\n",
      "1891      S FIGUEROA ST  False  Restaurant   69  60.000000     4140\n",
      "2520      S WESTERN AVE  False  Restaurant   64  52.437500     3356\n",
      "3711      W SUNSET BLVD   True  Restaurant   59  54.050847     3189\n",
      "3272           W 8TH ST  False  Restaurant   54  51.481481     2780\n",
      "3616        W PICO BLVD   True  Restaurant   49  52.938776     2594\n",
      "3130           W 6TH ST  False  Restaurant   49  47.775510     2341\n",
      "3860      WESTWOOD BLVD  False  Restaurant   46  59.673913     2745\n",
      "2952        VENICE BLVD  False  Restaurant   44  39.977273     1759\n",
      "446            E 1ST ST  False  Restaurant   40  49.500000     1980\n",
      "3241           W 7TH ST  False  Restaurant   38  68.710526     2611\n"
     ]
    }
   ],
   "source": [
    "# agrupamento por endereço e cadeiras\n",
    "group_merge_df2 = merge_df.groupby(['street','chain','object_type']).agg({'id':'count','number1':'mean','number2':'sum'}).reset_index()\n",
    "\n",
    "print(group_merge_df2.sort_values(by=['id','number2'],ascending=[False,False]).head(20))"
   ]
  },
  {
   "cell_type": "markdown",
   "id": "af3b8f0e",
   "metadata": {},
   "source": [
    "    Ao separar em Rede, conseguimos ver uma grande diferença de proporção nos locais mais movimentados:\n",
    "     - Predominância de estabelecimentos independentes, numa proporção maior do que verificação inicial de 62%, contra a de 10% do gráfico atual (2/20) , sendo necessário cuidado ao aprofundar as análises;\n",
    "     - Uma maior quantidade de estabelecimentos não quer dizer uma maior média de cadeiras, sendo necessário cuidado ao aprofundar as análises;"
   ]
  },
  {
   "cell_type": "code",
   "execution_count": 186,
   "id": "0e533df8",
   "metadata": {},
   "outputs": [
    {
     "data": {
      "text/plain": [
       "Text(0.5, 1.0, 'Média de cadeiras X QTD de cadeiras x Rede')"
      ]
     },
     "execution_count": 186,
     "metadata": {},
     "output_type": "execute_result"
    },
    {
     "data": {
      "image/png": "[encoded data removed]",
      "text/plain": [
       "<Figure size 640x480 with 1 Axes>"
      ]
     },
     "metadata": {},
     "output_type": "display_data"
    }
   ],
   "source": [
    "filtro_address = group_merge_df2.nlargest(20, 'id')\n",
    "\n",
    "g7 = sns.barplot(\n",
    "    data=filtro_address, \n",
    "    x='number2', \n",
    "    y='number1', \n",
    "    hue='chain', \n",
    "    palette='coolwarm',)\n",
    "g7.set_xlabel('Média de cadeiras')\n",
    "plt.xticks(rotation=45)\n",
    "g7.set_ylabel('QTD de cadeiras')\n",
    "plt.title('Média de cadeiras X QTD de cadeiras x Rede')"
   ]
  },
  {
   "cell_type": "markdown",
   "id": "a324cb2b",
   "metadata": {},
   "source": [
    "<a id=\"conclusao\"></a>\n",
    "## 5. Conclusão"
   ]
  },
  {
   "cell_type": "markdown",
   "id": "5bc7d169",
   "metadata": {},
   "source": [
    "    Como premissa, estou considerando densidade a quantidade de estabelecimentos por local e quantidade de cadeiras, com isso, podemos verificar que a maior proporção dos estabelecimentos são independentes e isso se reflete nos locais com maior densidade, mas não na mesma razão, a razão nos 20 locais mais movimentados é somente de 10% de rede, enquanto analisando o total geral é de 38%.\n",
    "    Nesses top 20 locais, todos são restaurantes sendo 2 pertencentes a redes.\n",
    "    Com essas observações, não fica totalmente claro se há mais oportunidades para se inserir no mercado como uma cafeteria de Rede ou não, mas quanto ao tipo de negócio Cafeteria, podemos abrir algumas hipóteses.\n",
    "    Nos 20 locais com maior densidade o tipo de negocio dominante é de Restaurantes, nos abrindo a hipótese de que abrir uma cafeteria é bom pois os clientes após sairem do restaurantes tem possibilidade de tomar um café.\n",
    "    A outra possibilidade de hipótese, é abrir em algum dos 9 locais mais densos, para aumentar o marketing visual e a possibilidade dos clientes irem após a refeição nos restaurantes"
   ]
  }
 ],
 "metadata": {
  "kernelspec": {
   "display_name": "base",
   "language": "python",
   "name": "python3"
  },
  "language_info": {
   "codemirror_mode": {
    "name": "ipython",
    "version": 3
   },
   "file_extension": ".py",
   "mimetype": "text/x-python",
   "name": "python",
   "nbconvert_exporter": "python",
   "pygments_lexer": "ipython3",
   "version": "3.12.4"
  }
 },
 "nbformat": 4,
 "nbformat_minor": 5
}
