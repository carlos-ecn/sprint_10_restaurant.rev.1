{
 "cells": [
  {
   "cell_type": "markdown",
   "id": "d24f3c52",
   "metadata": {},
   "source": [
    "# Projeto Sprint 10 - Relatório de pesquisa de mercado de resturantes, Análise gráfica e apresentação"
   ]
  },
  {
   "cell_type": "markdown",
   "id": "70f78357",
   "metadata": {},
   "source": [
    "# Introdução"
   ]
  },
  {
   "cell_type": "markdown",
   "id": "a4e77345",
   "metadata": {},
   "source": [
    "Análise e ralatório para abrir uma pequena cafeteria com garçons robôs em Los Angeles.\n",
    "No projeto é realizada inferências sobre condições atuais do mercado, as principais caracteristicas encontradas com a base de dados coletada e as possibilidades levantadas para a abertura dessa cafeteria."
   ]
  },
  {
   "cell_type": "markdown",
   "id": "eba29b4a",
   "metadata": {},
   "source": [
    "[Apresentação](https://1drv.ms/b/c/724b2c88352c89d1/EVvfU94QocVMrexGt1U5fGcBPnJHpIbeNR2rAKlGJpc-cg?e=dFfXG0)"
   ]
  },
  {
   "cell_type": "markdown",
   "id": "89667d1b",
   "metadata": {},
   "source": [
    "## Sumário\n",
    "\n",
    "1. [Abertura dos dados](#abertura_dados)\n",
    "    * 1.1 [Verificação de dados duplicados e nulos](#verificacao_dados)\n",
    "2. [Análise exploratória](#analise_exploratoria)\n",
    "    * 2.1 [Agrupamentos iniciais](#agrupamentos_iniciais)\n",
    "    * 2.2 [Gráficos iniciais](#graficos_iniciais)\n",
    "3. [Hipóteses e Verificações](#verificacoes)\n",
    "    * 3.1 [Gráficos Rede True and False](#graf_chain)\n",
    "    * 3.2 [Gráfico Média de Cadeiras](#graf_media)\n",
    "4. [Análise do negócio por endereço](#df_ruas)\n",
    "    * 4.1 [Análise dos principais endereços](#df_10)\n",
    "    * 4.2 [Análise dos principais endereços por Rede True and False](#df_10_TF)\n",
    "5. [Conclusão](#conclusao)"
   ]
  },
  {
   "cell_type": "markdown",
   "id": "97610e02",
   "metadata": {},
   "source": [
    "<a id=\"abertura_dados\"></a>\n",
    "## 1. Abertura dos dados"
   ]
  },
  {
   "cell_type": "code",
   "execution_count": null,
   "id": "686820f9",
   "metadata": {},
   "outputs": [],
   "source": [
    "import pandas as pd\n",
    "import datetime as dt\n",
    "import numpy as np\n",
    "import matplotlib.pyplot as plt\n",
    "from scipy import stats as st\n",
    "import math as mth\n",
    "import seaborn as sns\n",
    "from plotly import graph_objects as go\n",
    "import plotly.express as px\n",
    "import re"
   ]
  },
  {
   "cell_type": "code",
   "execution_count": 350,
   "id": "6be0b1b6",
   "metadata": {},
   "outputs": [
    {
     "data": {
      "text/html": [
       "<div>\n",
       "<style scoped>\n",
       "    .dataframe tbody tr th:only-of-type {\n",
       "        vertical-align: middle;\n",
       "    }\n",
       "\n",
       "    .dataframe tbody tr th {\n",
       "        vertical-align: top;\n",
       "    }\n",
       "\n",
       "    .dataframe thead th {\n",
       "        text-align: right;\n",
       "    }\n",
       "</style>\n",
       "<table border=\"1\" class=\"dataframe\">\n",
       "  <thead>\n",
       "    <tr style=\"text-align: right;\">\n",
       "      <th></th>\n",
       "      <th>id</th>\n",
       "      <th>object_name</th>\n",
       "      <th>address</th>\n",
       "      <th>chain</th>\n",
       "      <th>object_type</th>\n",
       "      <th>number</th>\n",
       "    </tr>\n",
       "  </thead>\n",
       "  <tbody>\n",
       "    <tr>\n",
       "      <th>0</th>\n",
       "      <td>11786</td>\n",
       "      <td>HABITAT COFFEE SHOP</td>\n",
       "      <td>3708 N EAGLE ROCK BLVD</td>\n",
       "      <td>False</td>\n",
       "      <td>Cafe</td>\n",
       "      <td>26</td>\n",
       "    </tr>\n",
       "    <tr>\n",
       "      <th>1</th>\n",
       "      <td>11787</td>\n",
       "      <td>REILLY'S</td>\n",
       "      <td>100 WORLD WAY 120</td>\n",
       "      <td>False</td>\n",
       "      <td>Restaurant</td>\n",
       "      <td>9</td>\n",
       "    </tr>\n",
       "    <tr>\n",
       "      <th>2</th>\n",
       "      <td>11788</td>\n",
       "      <td>STREET CHURROS</td>\n",
       "      <td>6801 HOLLYWOOD BLVD 253</td>\n",
       "      <td>False</td>\n",
       "      <td>Fast Food</td>\n",
       "      <td>20</td>\n",
       "    </tr>\n",
       "    <tr>\n",
       "      <th>3</th>\n",
       "      <td>11789</td>\n",
       "      <td>TRINITI ECHO PARK</td>\n",
       "      <td>1814 W SUNSET BLVD</td>\n",
       "      <td>False</td>\n",
       "      <td>Restaurant</td>\n",
       "      <td>22</td>\n",
       "    </tr>\n",
       "    <tr>\n",
       "      <th>4</th>\n",
       "      <td>11790</td>\n",
       "      <td>POLLEN</td>\n",
       "      <td>2100 ECHO PARK AVE</td>\n",
       "      <td>False</td>\n",
       "      <td>Restaurant</td>\n",
       "      <td>20</td>\n",
       "    </tr>\n",
       "    <tr>\n",
       "      <th>...</th>\n",
       "      <td>...</td>\n",
       "      <td>...</td>\n",
       "      <td>...</td>\n",
       "      <td>...</td>\n",
       "      <td>...</td>\n",
       "      <td>...</td>\n",
       "    </tr>\n",
       "    <tr>\n",
       "      <th>9646</th>\n",
       "      <td>21432</td>\n",
       "      <td>HALL OF JUSTICE</td>\n",
       "      <td>217 W TEMPLE AVE</td>\n",
       "      <td>False</td>\n",
       "      <td>Restaurant</td>\n",
       "      <td>122</td>\n",
       "    </tr>\n",
       "    <tr>\n",
       "      <th>9647</th>\n",
       "      <td>21433</td>\n",
       "      <td>FIN-MELROSE</td>\n",
       "      <td>5750 MELROSE AVE</td>\n",
       "      <td>False</td>\n",
       "      <td>Restaurant</td>\n",
       "      <td>93</td>\n",
       "    </tr>\n",
       "    <tr>\n",
       "      <th>9648</th>\n",
       "      <td>21434</td>\n",
       "      <td>JUICY WINGZ</td>\n",
       "      <td>6741 HOLLYWOOD BLVD</td>\n",
       "      <td>True</td>\n",
       "      <td>Fast Food</td>\n",
       "      <td>15</td>\n",
       "    </tr>\n",
       "    <tr>\n",
       "      <th>9649</th>\n",
       "      <td>21435</td>\n",
       "      <td>MEDIDATE COFFEE</td>\n",
       "      <td>548 S SPRING ST STE 100</td>\n",
       "      <td>False</td>\n",
       "      <td>Cafe</td>\n",
       "      <td>6</td>\n",
       "    </tr>\n",
       "    <tr>\n",
       "      <th>9650</th>\n",
       "      <td>21436</td>\n",
       "      <td>CAFE SPROUTS</td>\n",
       "      <td>1300 S SAN PEDRO ST STE 111</td>\n",
       "      <td>True</td>\n",
       "      <td>Restaurant</td>\n",
       "      <td>19</td>\n",
       "    </tr>\n",
       "  </tbody>\n",
       "</table>\n",
       "<p>9651 rows × 6 columns</p>\n",
       "</div>"
      ],
      "text/plain": [
       "         id          object_name                      address  chain  \\\n",
       "0     11786  HABITAT COFFEE SHOP       3708 N EAGLE ROCK BLVD  False   \n",
       "1     11787             REILLY'S            100 WORLD WAY 120  False   \n",
       "2     11788       STREET CHURROS      6801 HOLLYWOOD BLVD 253  False   \n",
       "3     11789    TRINITI ECHO PARK           1814 W SUNSET BLVD  False   \n",
       "4     11790               POLLEN           2100 ECHO PARK AVE  False   \n",
       "...     ...                  ...                          ...    ...   \n",
       "9646  21432      HALL OF JUSTICE             217 W TEMPLE AVE  False   \n",
       "9647  21433          FIN-MELROSE             5750 MELROSE AVE  False   \n",
       "9648  21434          JUICY WINGZ          6741 HOLLYWOOD BLVD   True   \n",
       "9649  21435      MEDIDATE COFFEE      548 S SPRING ST STE 100  False   \n",
       "9650  21436         CAFE SPROUTS  1300 S SAN PEDRO ST STE 111   True   \n",
       "\n",
       "     object_type  number  \n",
       "0           Cafe      26  \n",
       "1     Restaurant       9  \n",
       "2      Fast Food      20  \n",
       "3     Restaurant      22  \n",
       "4     Restaurant      20  \n",
       "...          ...     ...  \n",
       "9646  Restaurant     122  \n",
       "9647  Restaurant      93  \n",
       "9648   Fast Food      15  \n",
       "9649        Cafe       6  \n",
       "9650  Restaurant      19  \n",
       "\n",
       "[9651 rows x 6 columns]"
      ]
     },
     "execution_count": 350,
     "metadata": {},
     "output_type": "execute_result"
    }
   ],
   "source": [
    "df = pd.read_csv('rest_data_us_upd.csv')\n",
    "\n",
    "df"
   ]
  },
  {
   "cell_type": "code",
   "execution_count": 351,
   "id": "0d91c750",
   "metadata": {},
   "outputs": [
    {
     "name": "stdout",
     "output_type": "stream",
     "text": [
      "<class 'pandas.core.frame.DataFrame'>\n",
      "RangeIndex: 9651 entries, 0 to 9650\n",
      "Data columns (total 6 columns):\n",
      " #   Column       Non-Null Count  Dtype \n",
      "---  ------       --------------  ----- \n",
      " 0   id           9651 non-null   int64 \n",
      " 1   object_name  9651 non-null   object\n",
      " 2   address      9651 non-null   object\n",
      " 3   chain        9648 non-null   object\n",
      " 4   object_type  9651 non-null   object\n",
      " 5   number       9651 non-null   int64 \n",
      "dtypes: int64(2), object(4)\n",
      "memory usage: 452.5+ KB\n",
      "None\n"
     ]
    }
   ],
   "source": [
    "print(df.info())"
   ]
  },
  {
   "cell_type": "code",
   "execution_count": 352,
   "id": "e2c7c54b",
   "metadata": {},
   "outputs": [
    {
     "name": "stdout",
     "output_type": "stream",
     "text": [
      "                 id       number\n",
      "count   9651.000000  9651.000000\n",
      "mean   16611.000000    43.695161\n",
      "std     2786.148058    47.622874\n",
      "min    11786.000000     1.000000\n",
      "25%    14198.500000    14.000000\n",
      "50%    16611.000000    27.000000\n",
      "75%    19023.500000    46.000000\n",
      "max    21436.000000   229.000000\n"
     ]
    }
   ],
   "source": [
    "print(df.describe())"
   ]
  },
  {
   "cell_type": "markdown",
   "id": "bc337996",
   "metadata": {},
   "source": [
    "<a id=\"verificacao_dados\"></a>\n",
    "### 1.1 Verificação de duplicados e nulos "
   ]
  },
  {
   "cell_type": "markdown",
   "id": "6cf53e8e",
   "metadata": {},
   "source": [
    "    Duplicados: Sem valores duplicados;\n",
    "    Nulos: 3 valores nulos na coluna 'chain', optado por exclui-los pela quantidade;"
   ]
  },
  {
   "cell_type": "code",
   "execution_count": 353,
   "id": "576c00cd",
   "metadata": {},
   "outputs": [
    {
     "name": "stdout",
     "output_type": "stream",
     "text": [
      "0\n"
     ]
    }
   ],
   "source": [
    "print(df.duplicated().sum())"
   ]
  },
  {
   "cell_type": "code",
   "execution_count": 354,
   "id": "12bbbf5b",
   "metadata": {},
   "outputs": [
    {
     "name": "stdout",
     "output_type": "stream",
     "text": [
      "id             0\n",
      "object_name    0\n",
      "address        0\n",
      "chain          3\n",
      "object_type    0\n",
      "number         0\n",
      "dtype: int64\n",
      "\n",
      "         id              object_name               address chain object_type  \\\n",
      "7408  19194  TAQUERIA LOS 3 CARNALES  5000 E WHITTIER BLVD   NaN  Restaurant   \n",
      "7523  19309     JAMMIN JIMMY'S PIZZA   1641 FIRESTONE BLVD   NaN       Pizza   \n",
      "8648  20434    THE LEXINGTON THEATER          129 E 3RD ST   NaN  Restaurant   \n",
      "\n",
      "      number  \n",
      "7408      14  \n",
      "7523       1  \n",
      "8648      35  \n"
     ]
    }
   ],
   "source": [
    "print(df.isna().sum())\n",
    "print()\n",
    "print(df[df['chain'].isna()])"
   ]
  },
  {
   "cell_type": "code",
   "execution_count": 355,
   "id": "fbafdead",
   "metadata": {},
   "outputs": [
    {
     "name": "stdout",
     "output_type": "stream",
     "text": [
      "id             0\n",
      "object_name    0\n",
      "address        0\n",
      "chain          0\n",
      "object_type    0\n",
      "number         0\n",
      "dtype: int64\n"
     ]
    }
   ],
   "source": [
    "rest_df = df.dropna()\n",
    "print(rest_df.isna().sum())"
   ]
  },
  {
   "cell_type": "markdown",
   "id": "6d5ac8c5",
   "metadata": {},
   "source": [
    "<a id=\"analise_exploratoria\"></a>\n",
    "## 2 Análise exploratória"
   ]
  },
  {
   "cell_type": "markdown",
   "id": "d478c253",
   "metadata": {},
   "source": [
    "<a id=\"agrupamentos_iniciais\"></a>\n",
    "### 2.1 Agrupamentos iniciais"
   ]
  },
  {
   "cell_type": "code",
   "execution_count": 356,
   "id": "c67917ef",
   "metadata": {},
   "outputs": [],
   "source": [
    "# agrupamento por tipo\n",
    "group_type = rest_df.groupby('object_type').agg({'id':'count'}).reset_index()\n",
    "\n",
    "# agrupamento por rede\n",
    "group_chain = rest_df.groupby('chain').agg({'id':'count'}).reset_index()\n"
   ]
  },
  {
   "cell_type": "markdown",
   "id": "88330d2c",
   "metadata": {},
   "source": [
    "<a id=\"graficos_iniciais\"></a>\n",
    "### 2.2 Gráficos iniciais"
   ]
  },
  {
   "cell_type": "markdown",
   "id": "be9c49f4",
   "metadata": {},
   "source": [
    "    Verificação do tipo de estabelecimentos mais relevantes em quantidade"
   ]
  },
  {
   "cell_type": "code",
   "execution_count": 357,
   "id": "a2c09c0f",
   "metadata": {},
   "outputs": [
    {
     "data": {
      "text/plain": [
       "Text(0.5, 1.0, 'Quantidade de estabelecimentos x Tipo')"
      ]
     },
     "execution_count": 357,
     "metadata": {},
     "output_type": "execute_result"
    },
    {
     "data": {
      "image/png": "[encoded data removed]",
      "text/plain": [
       "<Figure size 640x480 with 1 Axes>"
      ]
     },
     "metadata": {},
     "output_type": "display_data"
    }
   ],
   "source": [
    "# gráfico por tipo e quantidade de estabelecimentos\n",
    "\n",
    "g1 = sns.barplot(\n",
    "    data=group_type, \n",
    "    x='object_type', \n",
    "    y='id',\n",
    "    )\n",
    "g1.set_xlabel('Tipo de Negócio')\n",
    "g1.set_ylabel('Quantidade')\n",
    "plt.title('Quantidade de estabelecimentos x Tipo')"
   ]
  },
  {
   "cell_type": "markdown",
   "id": "06a16ab4",
   "metadata": {},
   "source": [
    "    Verificação da proporção de estabelicimentos que são de Rede e os que são independentes"
   ]
  },
  {
   "cell_type": "code",
   "execution_count": 358,
   "id": "3a0e170a",
   "metadata": {},
   "outputs": [
    {
     "name": "stdout",
     "output_type": "stream",
     "text": [
      "   chain    id\n",
      "0  False  5972\n",
      "1   True  3676\n"
     ]
    },
    {
     "data": {
      "application/vnd.plotly.v1+json": {
       "config": {
        "plotlyServerURL": "https://plot.ly"
       },
       "data": [
        {
         "labels": [
          false,
          true
         ],
         "type": "pie",
         "values": [
          5972,
          3676
         ]
        }
       ],
       "layout": {
        "template": {
         "data": {
          "bar": [
           {
            "error_x": {
             "color": "#2a3f5f"
            },
            "error_y": {
             "color": "#2a3f5f"
            },
            "marker": {
             "line": {
              "color": "#E5ECF6",
              "width": 0.5
             },
             "pattern": {
              "fillmode": "overlay",
              "size": 10,
              "solidity": 0.2
             }
            },
            "type": "bar"
           }
          ],
          "barpolar": [
           {
            "marker": {
             "line": {
              "color": "#E5ECF6",
              "width": 0.5
             },
             "pattern": {
              "fillmode": "overlay",
              "size": 10,
              "solidity": 0.2
             }
            },
            "type": "barpolar"
           }
          ],
          "carpet": [
           {
            "aaxis": {
             "endlinecolor": "#2a3f5f",
             "gridcolor": "white",
             "linecolor": "white",
             "minorgridcolor": "white",
             "startlinecolor": "#2a3f5f"
            },
            "baxis": {
             "endlinecolor": "#2a3f5f",
             "gridcolor": "white",
             "linecolor": "white",
             "minorgridcolor": "white",
             "startlinecolor": "#2a3f5f"
            },
            "type": "carpet"
           }
          ],
          "choropleth": [
           {
            "colorbar": {
             "outlinewidth": 0,
             "ticks": ""
            },
            "type": "choropleth"
           }
          ],
          "contour": [
           {
            "colorbar": {
             "outlinewidth": 0,
             "ticks": ""
            },
            "colorscale": [
             [
              0,
              "#0d0887"
             ],
             [
              0.1111111111111111,
              "#46039f"
             ],
             [
              0.2222222222222222,
              "#7201a8"
             ],
             [
              0.3333333333333333,
              "#9c179e"
             ],
             [
              0.4444444444444444,
              "#bd3786"
             ],
             [
              0.5555555555555556,
              "#d8576b"
             ],
             [
              0.6666666666666666,
              "#ed7953"
             ],
             [
              0.7777777777777778,
              "#fb9f3a"
             ],
             [
              0.8888888888888888,
              "#fdca26"
             ],
             [
              1,
              "#f0f921"
             ]
            ],
            "type": "contour"
           }
          ],
          "contourcarpet": [
           {
            "colorbar": {
             "outlinewidth": 0,
             "ticks": ""
            },
            "type": "contourcarpet"
           }
          ],
          "heatmap": [
           {
            "colorbar": {
             "outlinewidth": 0,
             "ticks": ""
            },
            "colorscale": [
             [
              0,
              "#0d0887"
             ],
             [
              0.1111111111111111,
              "#46039f"
             ],
             [
              0.2222222222222222,
              "#7201a8"
             ],
             [
              0.3333333333333333,
              "#9c179e"
             ],
             [
              0.4444444444444444,
              "#bd3786"
             ],
             [
              0.5555555555555556,
              "#d8576b"
             ],
             [
              0.6666666666666666,
              "#ed7953"
             ],
             [
              0.7777777777777778,
              "#fb9f3a"
             ],
             [
              0.8888888888888888,
              "#fdca26"
             ],
             [
              1,
              "#f0f921"
             ]
            ],
            "type": "heatmap"
           }
          ],
          "heatmapgl": [
           {
            "colorbar": {
             "outlinewidth": 0,
             "ticks": ""
            },
            "colorscale": [
             [
              0,
              "#0d0887"
             ],
             [
              0.1111111111111111,
              "#46039f"
             ],
             [
              0.2222222222222222,
              "#7201a8"
             ],
             [
              0.3333333333333333,
              "#9c179e"
             ],
             [
              0.4444444444444444,
              "#bd3786"
             ],
             [
              0.5555555555555556,
              "#d8576b"
             ],
             [
              0.6666666666666666,
              "#ed7953"
             ],
             [
              0.7777777777777778,
              "#fb9f3a"
             ],
             [
              0.8888888888888888,
              "#fdca26"
             ],
             [
              1,
              "#f0f921"
             ]
            ],
            "type": "heatmapgl"
           }
          ],
          "histogram": [
           {
            "marker": {
             "pattern": {
              "fillmode": "overlay",
              "size": 10,
              "solidity": 0.2
             }
            },
            "type": "histogram"
           }
          ],
          "histogram2d": [
           {
            "colorbar": {
             "outlinewidth": 0,
             "ticks": ""
            },
            "colorscale": [
             [
              0,
              "#0d0887"
             ],
             [
              0.1111111111111111,
              "#46039f"
             ],
             [
              0.2222222222222222,
              "#7201a8"
             ],
             [
              0.3333333333333333,
              "#9c179e"
             ],
             [
              0.4444444444444444,
              "#bd3786"
             ],
             [
              0.5555555555555556,
              "#d8576b"
             ],
             [
              0.6666666666666666,
              "#ed7953"
             ],
             [
              0.7777777777777778,
              "#fb9f3a"
             ],
             [
              0.8888888888888888,
              "#fdca26"
             ],
             [
              1,
              "#f0f921"
             ]
            ],
            "type": "histogram2d"
           }
          ],
          "histogram2dcontour": [
           {
            "colorbar": {
             "outlinewidth": 0,
             "ticks": ""
            },
            "colorscale": [
             [
              0,
              "#0d0887"
             ],
             [
              0.1111111111111111,
              "#46039f"
             ],
             [
              0.2222222222222222,
              "#7201a8"
             ],
             [
              0.3333333333333333,
              "#9c179e"
             ],
             [
              0.4444444444444444,
              "#bd3786"
             ],
             [
              0.5555555555555556,
              "#d8576b"
             ],
             [
              0.6666666666666666,
              "#ed7953"
             ],
             [
              0.7777777777777778,
              "#fb9f3a"
             ],
             [
              0.8888888888888888,
              "#fdca26"
             ],
             [
              1,
              "#f0f921"
             ]
            ],
            "type": "histogram2dcontour"
           }
          ],
          "mesh3d": [
           {
            "colorbar": {
             "outlinewidth": 0,
             "ticks": ""
            },
            "type": "mesh3d"
           }
          ],
          "parcoords": [
           {
            "line": {
             "colorbar": {
              "outlinewidth": 0,
              "ticks": ""
             }
            },
            "type": "parcoords"
           }
          ],
          "pie": [
           {
            "automargin": true,
            "type": "pie"
           }
          ],
          "scatter": [
           {
            "fillpattern": {
             "fillmode": "overlay",
             "size": 10,
             "solidity": 0.2
            },
            "type": "scatter"
           }
          ],
          "scatter3d": [
           {
            "line": {
             "colorbar": {
              "outlinewidth": 0,
              "ticks": ""
             }
            },
            "marker": {
             "colorbar": {
              "outlinewidth": 0,
              "ticks": ""
             }
            },
            "type": "scatter3d"
           }
          ],
          "scattercarpet": [
           {
            "marker": {
             "colorbar": {
              "outlinewidth": 0,
              "ticks": ""
             }
            },
            "type": "scattercarpet"
           }
          ],
          "scattergeo": [
           {
            "marker": {
             "colorbar": {
              "outlinewidth": 0,
              "ticks": ""
             }
            },
            "type": "scattergeo"
           }
          ],
          "scattergl": [
           {
            "marker": {
             "colorbar": {
              "outlinewidth": 0,
              "ticks": ""
             }
            },
            "type": "scattergl"
           }
          ],
          "scattermapbox": [
           {
            "marker": {
             "colorbar": {
              "outlinewidth": 0,
              "ticks": ""
             }
            },
            "type": "scattermapbox"
           }
          ],
          "scatterpolar": [
           {
            "marker": {
             "colorbar": {
              "outlinewidth": 0,
              "ticks": ""
             }
            },
            "type": "scatterpolar"
           }
          ],
          "scatterpolargl": [
           {
            "marker": {
             "colorbar": {
              "outlinewidth": 0,
              "ticks": ""
             }
            },
            "type": "scatterpolargl"
           }
          ],
          "scatterternary": [
           {
            "marker": {
             "colorbar": {
              "outlinewidth": 0,
              "ticks": ""
             }
            },
            "type": "scatterternary"
           }
          ],
          "surface": [
           {
            "colorbar": {
             "outlinewidth": 0,
             "ticks": ""
            },
            "colorscale": [
             [
              0,
              "#0d0887"
             ],
             [
              0.1111111111111111,
              "#46039f"
             ],
             [
              0.2222222222222222,
              "#7201a8"
             ],
             [
              0.3333333333333333,
              "#9c179e"
             ],
             [
              0.4444444444444444,
              "#bd3786"
             ],
             [
              0.5555555555555556,
              "#d8576b"
             ],
             [
              0.6666666666666666,
              "#ed7953"
             ],
             [
              0.7777777777777778,
              "#fb9f3a"
             ],
             [
              0.8888888888888888,
              "#fdca26"
             ],
             [
              1,
              "#f0f921"
             ]
            ],
            "type": "surface"
           }
          ],
          "table": [
           {
            "cells": {
             "fill": {
              "color": "#EBF0F8"
             },
             "line": {
              "color": "white"
             }
            },
            "header": {
             "fill": {
              "color": "#C8D4E3"
             },
             "line": {
              "color": "white"
             }
            },
            "type": "table"
           }
          ]
         },
         "layout": {
          "annotationdefaults": {
           "arrowcolor": "#2a3f5f",
           "arrowhead": 0,
           "arrowwidth": 1
          },
          "autotypenumbers": "strict",
          "coloraxis": {
           "colorbar": {
            "outlinewidth": 0,
            "ticks": ""
           }
          },
          "colorscale": {
           "diverging": [
            [
             0,
             "#8e0152"
            ],
            [
             0.1,
             "#c51b7d"
            ],
            [
             0.2,
             "#de77ae"
            ],
            [
             0.3,
             "#f1b6da"
            ],
            [
             0.4,
             "#fde0ef"
            ],
            [
             0.5,
             "#f7f7f7"
            ],
            [
             0.6,
             "#e6f5d0"
            ],
            [
             0.7,
             "#b8e186"
            ],
            [
             0.8,
             "#7fbc41"
            ],
            [
             0.9,
             "#4d9221"
            ],
            [
             1,
             "#276419"
            ]
           ],
           "sequential": [
            [
             0,
             "#0d0887"
            ],
            [
             0.1111111111111111,
             "#46039f"
            ],
            [
             0.2222222222222222,
             "#7201a8"
            ],
            [
             0.3333333333333333,
             "#9c179e"
            ],
            [
             0.4444444444444444,
             "#bd3786"
            ],
            [
             0.5555555555555556,
             "#d8576b"
            ],
            [
             0.6666666666666666,
             "#ed7953"
            ],
            [
             0.7777777777777778,
             "#fb9f3a"
            ],
            [
             0.8888888888888888,
             "#fdca26"
            ],
            [
             1,
             "#f0f921"
            ]
           ],
           "sequentialminus": [
            [
             0,
             "#0d0887"
            ],
            [
             0.1111111111111111,
             "#46039f"
            ],
            [
             0.2222222222222222,
             "#7201a8"
            ],
            [
             0.3333333333333333,
             "#9c179e"
            ],
            [
             0.4444444444444444,
             "#bd3786"
            ],
            [
             0.5555555555555556,
             "#d8576b"
            ],
            [
             0.6666666666666666,
             "#ed7953"
            ],
            [
             0.7777777777777778,
             "#fb9f3a"
            ],
            [
             0.8888888888888888,
             "#fdca26"
            ],
            [
             1,
             "#f0f921"
            ]
           ]
          },
          "colorway": [
           "#636efa",
           "#EF553B",
           "#00cc96",
           "#ab63fa",
           "#FFA15A",
           "#19d3f3",
           "#FF6692",
           "#B6E880",
           "#FF97FF",
           "#FECB52"
          ],
          "font": {
           "color": "#2a3f5f"
          },
          "geo": {
           "bgcolor": "white",
           "lakecolor": "white",
           "landcolor": "#E5ECF6",
           "showlakes": true,
           "showland": true,
           "subunitcolor": "white"
          },
          "hoverlabel": {
           "align": "left"
          },
          "hovermode": "closest",
          "mapbox": {
           "style": "light"
          },
          "paper_bgcolor": "white",
          "plot_bgcolor": "#E5ECF6",
          "polar": {
           "angularaxis": {
            "gridcolor": "white",
            "linecolor": "white",
            "ticks": ""
           },
           "bgcolor": "#E5ECF6",
           "radialaxis": {
            "gridcolor": "white",
            "linecolor": "white",
            "ticks": ""
           }
          },
          "scene": {
           "xaxis": {
            "backgroundcolor": "#E5ECF6",
            "gridcolor": "white",
            "gridwidth": 2,
            "linecolor": "white",
            "showbackground": true,
            "ticks": "",
            "zerolinecolor": "white"
           },
           "yaxis": {
            "backgroundcolor": "#E5ECF6",
            "gridcolor": "white",
            "gridwidth": 2,
            "linecolor": "white",
            "showbackground": true,
            "ticks": "",
            "zerolinecolor": "white"
           },
           "zaxis": {
            "backgroundcolor": "#E5ECF6",
            "gridcolor": "white",
            "gridwidth": 2,
            "linecolor": "white",
            "showbackground": true,
            "ticks": "",
            "zerolinecolor": "white"
           }
          },
          "shapedefaults": {
           "line": {
            "color": "#2a3f5f"
           }
          },
          "ternary": {
           "aaxis": {
            "gridcolor": "white",
            "linecolor": "white",
            "ticks": ""
           },
           "baxis": {
            "gridcolor": "white",
            "linecolor": "white",
            "ticks": ""
           },
           "bgcolor": "#E5ECF6",
           "caxis": {
            "gridcolor": "white",
            "linecolor": "white",
            "ticks": ""
           }
          },
          "title": {
           "x": 0.05
          },
          "xaxis": {
           "automargin": true,
           "gridcolor": "white",
           "linecolor": "white",
           "ticks": "",
           "title": {
            "standoff": 15
           },
           "zerolinecolor": "white",
           "zerolinewidth": 2
          },
          "yaxis": {
           "automargin": true,
           "gridcolor": "white",
           "linecolor": "white",
           "ticks": "",
           "title": {
            "standoff": 15
           },
           "zerolinecolor": "white",
           "zerolinewidth": 2
          }
         }
        }
       }
      }
     },
     "metadata": {},
     "output_type": "display_data"
    }
   ],
   "source": [
    "print(group_chain)\n",
    "fig = go.Figure(data=[go.Pie(values=group_chain['id'], labels=group_chain['chain'])])\n",
    "fig.show()"
   ]
  },
  {
   "cell_type": "code",
   "execution_count": 359,
   "id": "861305aa",
   "metadata": {},
   "outputs": [
    {
     "data": {
      "text/plain": [
       "Text(0.5, 1.0, 'Proporção de Rede')"
      ]
     },
     "execution_count": 359,
     "metadata": {},
     "output_type": "execute_result"
    },
    {
     "data": {
      "image/png": "[encoded data removed]",
      "text/plain": [
       "<Figure size 640x480 with 1 Axes>"
      ]
     },
     "metadata": {},
     "output_type": "display_data"
    }
   ],
   "source": [
    "# gráfico por tipo e quantidade de estabelecimentos\n",
    "\n",
    "plt.pie(\n",
    "    group_chain['id'],\n",
    "    labels=group_chain['chain'], \n",
    "    autopct='%1.1f%%'\n",
    "    )\n",
    "plt.title('Proporção de Rede')\n",
    "\n",
    "# values=group_chain['id'], labels=group_chain['chain']"
   ]
  },
  {
   "cell_type": "markdown",
   "id": "0a4668c2",
   "metadata": {},
   "source": [
    "<a id=\"verificacoes\"></a>\n",
    "## 3 Hipóteses e Verificações"
   ]
  },
  {
   "cell_type": "markdown",
   "id": "4c0f312a",
   "metadata": {},
   "source": [
    "Verificação das proporções para Rede"
   ]
  },
  {
   "cell_type": "code",
   "execution_count": 360,
   "id": "5e8e7753",
   "metadata": {},
   "outputs": [
    {
     "name": "stdout",
     "output_type": "stream",
     "text": [
      "  object_type    id\n",
      "5  Restaurant  2292\n",
      "3   Fast Food   605\n",
      "0      Bakery   283\n",
      "2        Cafe   266\n",
      "4       Pizza   153\n",
      "1         Bar    77\n"
     ]
    }
   ],
   "source": [
    "# filtro por rede\n",
    "filtro_type_rede = rest_df[rest_df['chain']==True]\n",
    "\n",
    "# agrupamento por tipo e rede True\n",
    "group_type_rede = filtro_type_rede.groupby('object_type').agg({'id':'count'}).reset_index()\n",
    "\n",
    "print(group_type_rede.sort_values(by='id',ascending=False))\n"
   ]
  },
  {
   "cell_type": "markdown",
   "id": "bd528cf8",
   "metadata": {},
   "source": [
    "Verificação das proporções para Rede e independentes"
   ]
  },
  {
   "cell_type": "code",
   "execution_count": 361,
   "id": "a906e44d",
   "metadata": {},
   "outputs": [
    {
     "name": "stdout",
     "output_type": "stream",
     "text": [
      "   object_type  chain    id  number\n",
      "9   Restaurant  False  4961  245688\n",
      "10  Restaurant   True  2292  102810\n",
      "6    Fast Food   True   605   23044\n",
      "5    Fast Food  False   461   10895\n",
      "1          Bar  False   215    9972\n",
      "4         Cafe   True   266    6894\n",
      "0       Bakery   True   283    6162\n",
      "7        Pizza  False   166    5200\n",
      "3         Cafe  False   169    3981\n",
      "8        Pizza   True   153    3906\n",
      "2          Bar   True    77    3100\n"
     ]
    }
   ],
   "source": [
    "# agrupamento por tipo e rede e assentos\n",
    "group_type_number = rest_df.groupby(['object_type','chain']).agg({'id':'count','number':'sum'}).reset_index()\n",
    "\n",
    "print(group_type_number.sort_values(by=['number','chain'],ascending=[False,True]))"
   ]
  },
  {
   "cell_type": "markdown",
   "id": "d42826a9",
   "metadata": {},
   "source": [
    "<a id=\"graf_chain\"></a>\n",
    "### 3.1 Gráficos Rede True and False"
   ]
  },
  {
   "cell_type": "markdown",
   "id": "637930e2",
   "metadata": {},
   "source": [
    " - Quantidade geral de independentes é maior;\n",
    " - Rede: Restaurantes dominam, seguido por Fast Food"
   ]
  },
  {
   "cell_type": "code",
   "execution_count": 362,
   "id": "57ed2b63",
   "metadata": {},
   "outputs": [
    {
     "data": {
      "text/plain": [
       "Text(0.5, 1.0, 'Quantidade de estabelecimentos x Tipo x Rede')"
      ]
     },
     "execution_count": 362,
     "metadata": {},
     "output_type": "execute_result"
    },
    {
     "data": {
      "image/png": "[encoded data removed]",
      "text/plain": [
       "<Figure size 640x480 with 1 Axes>"
      ]
     },
     "metadata": {},
     "output_type": "display_data"
    }
   ],
   "source": [
    "# gráfico por tipo e rede e assentos\n",
    "# quantidade de estabelicimentos\n",
    "\n",
    "g2 = sns.barplot(\n",
    "    data=group_type_number, \n",
    "    x='object_type', \n",
    "    y='id', \n",
    "    hue='chain',)\n",
    "g2.set_xlabel('Tipo de Negócio')\n",
    "g2.set_ylabel('Quantidade')\n",
    "plt.title('Quantidade de estabelecimentos x Tipo x Rede')"
   ]
  },
  {
   "cell_type": "markdown",
   "id": "cfb06d82",
   "metadata": {},
   "source": [
    " - Número de cadeiras segue a mesma proporção dos estabelecimentos: Quantidade geral de independentes é maior; Rede: Restaurantes dominam, seguido por Fast Food"
   ]
  },
  {
   "cell_type": "code",
   "execution_count": 363,
   "id": "f74b8184",
   "metadata": {},
   "outputs": [
    {
     "data": {
      "text/plain": [
       "Text(0.5, 1.0, 'Quantidade de cadeiras x Tipo x Rede')"
      ]
     },
     "execution_count": 363,
     "metadata": {},
     "output_type": "execute_result"
    },
    {
     "data": {
      "image/png": "[encoded data removed]",
      "text/plain": [
       "<Figure size 640x480 with 1 Axes>"
      ]
     },
     "metadata": {},
     "output_type": "display_data"
    }
   ],
   "source": [
    "# gráfico por tipo e rede e assentos\n",
    "# quantidade de cadeiras\n",
    "\n",
    "g3 = sns.barplot(\n",
    "    data=group_type_number, \n",
    "    x='object_type', \n",
    "    y='number', \n",
    "    hue='chain',)\n",
    "g3.set_xlabel('Tipo de Negócio')\n",
    "g3.set_ylabel('Quantidade de cadeiras')\n",
    "plt.title('Quantidade de cadeiras x Tipo x Rede')"
   ]
  },
  {
   "cell_type": "markdown",
   "id": "1fa3d457",
   "metadata": {},
   "source": [
    "<a id=\"graf_media\"></a>\n",
    "### 3.2 Gráfico Média de Cadeiras"
   ]
  },
  {
   "cell_type": "code",
   "execution_count": 364,
   "id": "6ee530e9",
   "metadata": {},
   "outputs": [
    {
     "name": "stdout",
     "output_type": "stream",
     "text": [
      "   object_type  chain    id     number\n",
      "9   Restaurant  False  4961  49.523886\n",
      "1          Bar  False   215  46.381395\n",
      "10  Restaurant   True  2292  44.856021\n",
      "2          Bar   True    77  40.259740\n",
      "6    Fast Food   True   605  38.089256\n",
      "7        Pizza  False   166  31.325301\n",
      "4         Cafe   True   266  25.917293\n",
      "8        Pizza   True   153  25.529412\n",
      "5    Fast Food  False   461  23.633406\n",
      "3         Cafe  False   169  23.556213\n",
      "0       Bakery   True   283  21.773852\n"
     ]
    }
   ],
   "source": [
    "# \n",
    "# Determine o número médio de assentos para cada tipo de restaurante. \n",
    "# Em média, qual tipo de restaurante tem o maior número de assentos? Construa gráficos.\n",
    "\n",
    "# agrupamento por tipo e rede e assentos\n",
    "group_number_mean = rest_df.groupby(['object_type','chain']).agg({'id':'count','number':'mean'}).reset_index()\n",
    "\n",
    "print(group_number_mean.sort_values(by=['number','chain'],ascending=[False,True]))"
   ]
  },
  {
   "cell_type": "markdown",
   "id": "efc62e50",
   "metadata": {},
   "source": [
    " - As médias de cadeiras são próximas entre Rede e Independentes;\n",
    " - Tipo de estabelecimento que sai da média é Fast Food, onde em Rede é maior;"
   ]
  },
  {
   "cell_type": "code",
   "execution_count": 365,
   "id": "4fc7be27",
   "metadata": {},
   "outputs": [
    {
     "data": {
      "text/plain": [
       "Text(0.5, 1.0, 'Quantidade média de cadeiras x Tipo')"
      ]
     },
     "execution_count": 365,
     "metadata": {},
     "output_type": "execute_result"
    },
    {
     "data": {
      "image/png": "[encoded data removed]",
      "text/plain": [
       "<Figure size 640x480 with 1 Axes>"
      ]
     },
     "metadata": {},
     "output_type": "display_data"
    }
   ],
   "source": [
    "# gráfico por tipo e rede e assentos\n",
    "# quantidade média de cadeiras\n",
    "\n",
    "g4 = sns.barplot(\n",
    "    data=group_number_mean, \n",
    "    x='object_type', \n",
    "    y='number', \n",
    "    hue='chain',)\n",
    "g4.set_xlabel('Tipo de Negócio')\n",
    "g4.set_ylabel('Quantidade média de cadeiras')\n",
    "plt.title('Quantidade média de cadeiras x Tipo')"
   ]
  },
  {
   "cell_type": "markdown",
   "id": "4d8537c7",
   "metadata": {},
   "source": [
    "<a id=\"df_ruas\"></a>\n",
    "## 4 Análise do negócio por endereço"
   ]
  },
  {
   "cell_type": "markdown",
   "id": "3e749b09",
   "metadata": {},
   "source": [
    " - Quando o agrupamento é feito separando as Redes, dificulta a visualização dos locais mais movimentados;"
   ]
  },
  {
   "cell_type": "code",
   "execution_count": 366,
   "id": "1308ceae",
   "metadata": {},
   "outputs": [
    {
     "name": "stdout",
     "output_type": "stream",
     "text": [
      "                    address object_type  chain  id  number\n",
      "6389      545 S FIGUEROA ST  Restaurant  False   5     531\n",
      "157       10201 W PICO BLVD  Restaurant  False   3     486\n",
      "7608          700 WORLD WAY  Restaurant  False   4     478\n",
      "4651    3607 TROUSDALE PKWY  Restaurant   True   3     476\n",
      "1564        135 N GRAND AVE  Restaurant  False   4     474\n",
      "...                     ...         ...    ...  ..     ...\n",
      "8538      851 S VERMONT AVE  Restaurant   True   1       1\n",
      "8551  8522 S WESTERN AVE #B   Fast Food   True   1       1\n",
      "8579       8583 W PICO BLVD      Bakery   True   1       1\n",
      "8671  8752 S SEPULVEDA BLVD  Restaurant   True   1       1\n",
      "8676       8781 W PICO BLVD   Fast Food   True   1       1\n",
      "\n",
      "[8995 rows x 5 columns]\n"
     ]
    }
   ],
   "source": [
    "# agrupamento por tipo e rede e assentos\n",
    "group_address = rest_df.groupby(['address','object_type','chain']).agg({'id':'count','number':'sum'}).reset_index()\n",
    "\n",
    "print(group_address.sort_values(by=['number','chain'],ascending=[False,True]))"
   ]
  },
  {
   "cell_type": "code",
   "execution_count": 367,
   "id": "1e647273",
   "metadata": {},
   "outputs": [
    {
     "name": "stdout",
     "output_type": "stream",
     "text": [
      "         id          object_name                      address  chain  \\\n",
      "0     11786  HABITAT COFFEE SHOP       3708 N EAGLE ROCK BLVD  False   \n",
      "1     11787             REILLY'S            100 WORLD WAY 120  False   \n",
      "2     11788       STREET CHURROS      6801 HOLLYWOOD BLVD 253  False   \n",
      "3     11789    TRINITI ECHO PARK           1814 W SUNSET BLVD  False   \n",
      "4     11790               POLLEN           2100 ECHO PARK AVE  False   \n",
      "...     ...                  ...                          ...    ...   \n",
      "9646  21432      HALL OF JUSTICE             217 W TEMPLE AVE  False   \n",
      "9647  21433          FIN-MELROSE             5750 MELROSE AVE  False   \n",
      "9648  21434          JUICY WINGZ          6741 HOLLYWOOD BLVD   True   \n",
      "9649  21435      MEDIDATE COFFEE      548 S SPRING ST STE 100  False   \n",
      "9650  21436         CAFE SPROUTS  1300 S SAN PEDRO ST STE 111   True   \n",
      "\n",
      "     object_type  number1  number2  \n",
      "0           Cafe       26       26  \n",
      "1     Restaurant        9        9  \n",
      "2      Fast Food       20       20  \n",
      "3     Restaurant       22       22  \n",
      "4     Restaurant       20       20  \n",
      "...          ...      ...      ...  \n",
      "9646  Restaurant      122      122  \n",
      "9647  Restaurant       93       93  \n",
      "9648   Fast Food       15       15  \n",
      "9649        Cafe        6        6  \n",
      "9650  Restaurant       19       19  \n",
      "\n",
      "[9651 rows x 7 columns]\n"
     ]
    }
   ],
   "source": [
    "# merge para obter duas colunas de cadeiras para realizar 2 operações de agregar\n",
    "\n",
    "merge_df = df.merge(df, on=['id','object_name','address','chain','object_type'], how='left', suffixes=(['1','2']))\n",
    "\n",
    "print(merge_df)"
   ]
  },
  {
   "cell_type": "markdown",
   "id": "87743dee",
   "metadata": {},
   "source": [
    " - Sem a distinção de Rede, é possivel verificar quais locais possuem a maior quantidade de estabelecimentos e podemos ordenar visualizando as médias de cadeiras e quantidades totais;"
   ]
  },
  {
   "cell_type": "code",
   "execution_count": 368,
   "id": "98432db5",
   "metadata": {},
   "outputs": [
    {
     "name": "stdout",
     "output_type": "stream",
     "text": [
      "                       address  id    number1  number2\n",
      "4416       3607 TROUSDALE PKWY  11  92.727273     1020\n",
      "1485           135 N GRAND AVE  10  76.500000      765\n",
      "6436             600 WORLD WAY   9  42.777778      385\n",
      "5799  5151 STATE UNIVERSITY DR   9  37.000000      333\n",
      "4802             400 WORLD WAY   9  33.555556      302\n",
      "...                        ...  ..        ...      ...\n",
      "8331          9226 W PICO BLVD   1   1.000000        1\n",
      "8342           927 BROXTON AVE   1   1.000000        1\n",
      "8402        9401 S AVALON BLVD   1   1.000000        1\n",
      "8409          9427 W PICO BLVD   1   1.000000        1\n",
      "8510              OLVERA ST E8   1   1.000000        1\n",
      "\n",
      "[8512 rows x 4 columns]\n"
     ]
    }
   ],
   "source": [
    "# agrupamento por endereço e cadeiras\n",
    "group_merge_df = merge_df.groupby(['address',]).agg({'id':'count','number1':'mean','number2':'sum'}).reset_index()\n",
    "\n",
    "print(group_merge_df.sort_values(by=['id','number2'],ascending=[False,False]))"
   ]
  },
  {
   "cell_type": "markdown",
   "id": "cdc911d0",
   "metadata": {},
   "source": [
    "<a id=\"df_10\"></a>\n",
    "### 4.1 Análise dos principais endereços"
   ]
  },
  {
   "cell_type": "code",
   "execution_count": 369,
   "id": "b389f376",
   "metadata": {},
   "outputs": [
    {
     "name": "stdout",
     "output_type": "stream",
     "text": [
      "                       address  id     number1  number2\n",
      "4416       3607 TROUSDALE PKWY  11   92.727273     1020\n",
      "1485           135 N GRAND AVE  10   76.500000      765\n",
      "4802             400 WORLD WAY   9   33.555556      302\n",
      "5799  5151 STATE UNIVERSITY DR   9   37.000000      333\n",
      "6436             600 WORLD WAY   9   42.777778      385\n",
      "2515  2025 AVENUE OF THE STARS   8  104.375000      835\n",
      "3424             300 WORLD WAY   8   80.125000      641\n",
      "6050         545 S FIGUEROA ST   8   97.125000      777\n",
      "7198             700 WORLD WAY   8   70.750000      566\n",
      "32               100 WORLD WAY   6   15.333333       92\n"
     ]
    }
   ],
   "source": [
    "address_10 = group_merge_df.nlargest(10,'id')\n",
    "print(address_10)"
   ]
  },
  {
   "cell_type": "markdown",
   "id": "be6a256a",
   "metadata": {},
   "source": [
    " - Temos 4 locais com a mesma quantidade de estabelecimentos, mas com quantidades de cadeiras e médias diferentes;\n",
    " - Temos 3 locais com a 3 maior quantidade de estabelecimentos, mas com as menores médias e quantidades de cadeiras;\n",
    "\n",
    " Dificuldade de verificar o impacto na análise ao separar em Rede;\n",
    " Dificuldade de fazer distinção entre o tipo de estabelecimento, mas sabemos que a grande maioria eram Restaurantes;"
   ]
  },
  {
   "cell_type": "code",
   "execution_count": 370,
   "id": "a371a94c",
   "metadata": {},
   "outputs": [
    {
     "data": {
      "text/plain": [
       "Text(0.5, 1.0, 'Média de cadeiras X QTD de cadeiras x Núm de estabelecimentos')"
      ]
     },
     "execution_count": 370,
     "metadata": {},
     "output_type": "execute_result"
    },
    {
     "data": {
      "image/png": "[encoded data removed]",
      "text/plain": [
       "<Figure size 640x480 with 1 Axes>"
      ]
     },
     "metadata": {},
     "output_type": "display_data"
    }
   ],
   "source": [
    "g5 = sns.barplot(\n",
    "    data=address_10, \n",
    "    x='number2', \n",
    "    y='number1', \n",
    "    hue='id', \n",
    "    palette='coolwarm',) \n",
    "g5.set_xlabel('Média de cadeiras')\n",
    "g5.set_ylabel('QTD de cadeiras')\n",
    "plt.title('Média de cadeiras X QTD de cadeiras x Núm de estabelecimentos')\n"
   ]
  },
  {
   "cell_type": "code",
   "execution_count": 371,
   "id": "4e33f3ff",
   "metadata": {},
   "outputs": [
    {
     "data": {
      "image/png": "[encoded data removed]",
      "text/plain": [
       "<Figure size 900x550 with 1 Axes>"
      ]
     },
     "metadata": {},
     "output_type": "display_data"
    }
   ],
   "source": [
    "fig, g6 = plt.subplots(figsize=(9, 5.5))\n",
    "\n",
    "sns.barplot(\n",
    "    data=address_10, \n",
    "    x='number2', \n",
    "    y='number1', \n",
    "    hue='address', \n",
    "    palette='coolwarm',\n",
    "    ax=g6) \n",
    "g6.set_ylabel('Média de cadeiras')\n",
    "g6.set_xlabel('QTD de cadeiras')\n",
    "plt.title('Média de cadeiras X QTD de cadeiras x Local')\n",
    "\n",
    "plt.show()"
   ]
  },
  {
   "cell_type": "code",
   "execution_count": 372,
   "id": "b4f03ebf",
   "metadata": {},
   "outputs": [
    {
     "data": {
      "image/png": "[encoded data removed]",
      "text/plain": [
       "<Figure size 900x550 with 2 Axes>"
      ]
     },
     "metadata": {},
     "output_type": "display_data"
    }
   ],
   "source": [
    "fig, g6 = plt.subplots(figsize=(9, 5.5))\n",
    "\n",
    "sns.barplot(\n",
    "    data=address_10, \n",
    "    x='number2', \n",
    "    y='number1', \n",
    "    hue='address', \n",
    "    palette='coolwarm',\n",
    "    ax=g6) \n",
    "g6.set_ylabel('Média de cadeiras')\n",
    "\n",
    "g6_eixo2 = g6.twinx()\n",
    "\n",
    "sns.lineplot(\n",
    "    data=address_10,\n",
    "    x='number2',\n",
    "    y='id',\n",
    "    hue='address',\n",
    "    palette='coolwarm',\n",
    "    ax=g6_eixo2,\n",
    "    )\n",
    "g6_eixo2.set_ylabel('Quantidade por Local')\n",
    "g6_eixo2.legend_.remove()\n",
    "\n",
    "g6.set_xlabel('QTD de cadeiras')\n",
    "plt.title('Média de cadeiras X QTD de cadeiras x Quantidade por Local')\n",
    "\n",
    "plt.show()"
   ]
  },
  {
   "cell_type": "code",
   "execution_count": 373,
   "id": "1aa05bec",
   "metadata": {},
   "outputs": [
    {
     "name": "stdout",
     "output_type": "stream",
     "text": [
      "address    7596\n",
      "id         7596\n",
      "number1    7596\n",
      "number2    7596\n",
      "dtype: int64\n"
     ]
    }
   ],
   "source": [
    "# agrupamento por endereço e cadeiras\n",
    "group_address_min = merge_df.groupby(['address',]).agg({'id':'count','number1':'mean','number2':'sum'}).reset_index()\n",
    "group_address_min1 = group_address_min[group_address_min['id']==1]\n",
    "\n",
    "print(group_address_min1.count())"
   ]
  },
  {
   "cell_type": "markdown",
   "id": "0b8ac395",
   "metadata": {},
   "source": [
    "<a id=\"df_10_TF\"></a>\n",
    "### 4.2 Análise dos principais endereços por Rede True and False"
   ]
  },
  {
   "cell_type": "code",
   "execution_count": 374,
   "id": "1ed179e8",
   "metadata": {},
   "outputs": [
    {
     "name": "stdout",
     "output_type": "stream",
     "text": [
      "                       address  chain object_type  id     number1  number2\n",
      "6389         545 S FIGUEROA ST  False  Restaurant   5  106.200000      531\n",
      "3609             300 WORLD WAY  False  Restaurant   5   94.600000      473\n",
      "2646  2025 AVENUE OF THE STARS  False  Restaurant   5   81.800000      409\n",
      "8740        900 W OLYMPIC BLVD  False  Restaurant   5   79.400000      397\n",
      "1562           135 N GRAND AVE  False         Bar   5   57.800000      289\n",
      "7607             700 WORLD WAY  False  Restaurant   4  119.500000      478\n",
      "1564           135 N GRAND AVE  False  Restaurant   4  118.500000      474\n",
      "7065       6250 HOLLYWOOD BLVD  False  Restaurant   4  110.500000      442\n",
      "7242        6360 W SUNSET BLVD  False  Restaurant   4   54.250000      217\n",
      "3329        2700 N VERMONT AVE  False  Restaurant   4   42.500000      170\n",
      "5063             400 WORLD WAY  False  Restaurant   4   37.500000      150\n",
      "6114  5151 STATE UNIVERSITY DR  False  Restaurant   4   32.000000      128\n",
      "6116  5151 STATE UNIVERSITY DR   True  Restaurant   4   28.500000      114\n",
      "3727             3064 W 8TH ST  False  Restaurant   4   12.500000       50\n",
      "157          10201 W PICO BLVD  False  Restaurant   3  162.000000      486\n",
      "4651       3607 TROUSDALE PKWY   True  Restaurant   3  158.666667      476\n",
      "7641       701 STONE CANYON RD  False         Bar   3  128.333333      385\n",
      "6336       5400 W CENTURY BLVD  False  Restaurant   3  127.000000      381\n",
      "6842       6021 HOLLYWOOD BLVD  False  Restaurant   3  121.333333      364\n",
      "6575       5711 W CENTURY BLVD  False  Restaurant   3  105.666667      317\n"
     ]
    }
   ],
   "source": [
    "# agrupamento por endereço e cadeiras\n",
    "group_merge_df2 = merge_df.groupby(['address','chain','object_type']).agg({'id':'count','number1':'mean','number2':'sum'}).reset_index()\n",
    "\n",
    "print(group_merge_df2.sort_values(by=['id','number2'],ascending=[False,False]).head(20))"
   ]
  },
  {
   "cell_type": "markdown",
   "id": "af3b8f0e",
   "metadata": {},
   "source": [
    "    Ao separar em Rede, conseguimos ver uma grande diferença de proporção nos locais mais movimentados:\n",
    "     - Predominância de estabelecimentos independentes, numa proporção maior do que verificação inicial de 62%, contra a de 10% do gráfico atual (2/20) , sendo necessário cuidado ao aprofundar as análises;\n",
    "     - Uma maior quantidade de estabelecimentos não quer dizer uma maior média de cadeiras, sendo necessário cuidado ao aprofundar as análises;"
   ]
  },
  {
   "cell_type": "code",
   "execution_count": 375,
   "id": "0e533df8",
   "metadata": {},
   "outputs": [
    {
     "data": {
      "text/plain": [
       "Text(0.5, 1.0, 'Média de cadeiras X QTD de cadeiras x Rede')"
      ]
     },
     "execution_count": 375,
     "metadata": {},
     "output_type": "execute_result"
    },
    {
     "data": {
      "image/png": "[encoded data removed]",
      "text/plain": [
       "<Figure size 640x480 with 1 Axes>"
      ]
     },
     "metadata": {},
     "output_type": "display_data"
    }
   ],
   "source": [
    "filtro_address = group_merge_df2.nlargest(20, 'id')\n",
    "\n",
    "g7 = sns.barplot(\n",
    "    data=filtro_address, \n",
    "    x='number2', \n",
    "    y='number1', \n",
    "    hue='chain', \n",
    "    palette='coolwarm',)\n",
    "g7.set_xlabel('Média de cadeiras')\n",
    "g7.set_ylabel('QTD de cadeiras')\n",
    "plt.title('Média de cadeiras X QTD de cadeiras x Rede')"
   ]
  },
  {
   "cell_type": "markdown",
   "id": "a324cb2b",
   "metadata": {},
   "source": [
    "<a id=\"conclusao\"></a>\n",
    "## 5. Conclusão"
   ]
  },
  {
   "cell_type": "markdown",
   "id": "5bc7d169",
   "metadata": {},
   "source": [
    "    Como premissa, estou considerando densidade a quantidade de estabelecimentos por local e quantidade de cadeiras, com isso, podemos verificar que a maior proporção dos estabelecimentos são independentes e isso se reflete nos locais com maior densidade, mas não na mesma razão, a razão nos 20 locais mais movimentados é somente de 10% de rede, enquanto analisando o total geral é de 38%.\n",
    "    Nesses top 20 locais, 18 são restaurantes sendo 2 pertencentes a redes.\n",
    "    Com essas observações, não fica totalmente claro se há mais oportunidades para se inserir no mercado como uma cafeteria de Rede ou não, mas quanto ao tipo de negócio Cafeteria, podemos abrir algumas hipóteses.\n",
    "    Nos 20 locais com maior densidade o tipo de negocio dominante é de Restaurantes, nos abrindo a hipótese de que abrir uma cafeteria é bom pois os clientes após sairem do restaurantes tem possibilidade de tomar um café.\n",
    "    A outra possibilidade de hipótese, é abrir em algum dos 9 locais mais densos, para aumentar o marketing visual e a possibilidade dos clientes irem após a refeição nos restaurantes"
   ]
  }
 ],
 "metadata": {
  "kernelspec": {
   "display_name": "base",
   "language": "python",
   "name": "python3"
  },
  "language_info": {
   "codemirror_mode": {
    "name": "ipython",
    "version": 3
   },
   "file_extension": ".py",
   "mimetype": "text/x-python",
   "name": "python",
   "nbconvert_exporter": "python",
   "pygments_lexer": "ipython3",
   "version": "3.12.4"
  }
 },
 "nbformat": 4,
 "nbformat_minor": 5
}
